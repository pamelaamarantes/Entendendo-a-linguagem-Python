{
 "cells": [
  {
   "cell_type": "markdown",
   "metadata": {
    "application/vnd.databricks.v1+cell": {
     "cellMetadata": {},
     "inputWidgets": {},
     "nuid": "5e8018a8-c260-4f49-b82e-6e702fd03718",
     "showTitle": false,
     "title": ""
    }
   },
   "source": [
    "https://pt.wikipedia.org/wiki/Programa_Universidade_para_Todos"
   ]
  },
  {
   "cell_type": "code",
   "execution_count": 0,
   "metadata": {
    "application/vnd.databricks.v1+cell": {
     "cellMetadata": {
      "byteLimit": 2048000,
      "rowLimit": 10000
     },
     "inputWidgets": {},
     "nuid": "03350015-44f8-404a-9504-63d092667dca",
     "showTitle": false,
     "title": ""
    }
   },
   "outputs": [],
   "source": [
    "import pandas as pd\n",
    "import pyspark.pandas as ps"
   ]
  },
  {
   "cell_type": "code",
   "execution_count": 0,
   "metadata": {
    "application/vnd.databricks.v1+cell": {
     "cellMetadata": {
      "byteLimit": 2048000,
      "rowLimit": 10000
     },
     "inputWidgets": {},
     "nuid": "0e961ad4-718d-4396-8552-eec54f870f8a",
     "showTitle": false,
     "title": ""
    }
   },
   "outputs": [],
   "source": [
    "data = {\n",
    "    'Ano': [2021,2020],\n",
    "    'Bolsas_Integrais': [146.3, 182.9],\n",
    "    'Bolsas_Parciais': [150.0, 237.4],\n",
    "    'Bolsas_Total': [296.3, 420.3]\n",
    "}"
   ]
  },
  {
   "cell_type": "code",
   "execution_count": 0,
   "metadata": {
    "application/vnd.databricks.v1+cell": {
     "cellMetadata": {
      "byteLimit": 2048000,
      "rowLimit": 10000
     },
     "inputWidgets": {},
     "nuid": "c5dd5821-bb90-4a16-bf24-e434583064db",
     "showTitle": false,
     "title": ""
    }
   },
   "outputs": [],
   "source": [
    "df_pandas = ps.DataFrame(data)"
   ]
  },
  {
   "cell_type": "code",
   "execution_count": 0,
   "metadata": {
    "application/vnd.databricks.v1+cell": {
     "cellMetadata": {
      "byteLimit": 2048000,
      "rowLimit": 10000
     },
     "inputWidgets": {},
     "nuid": "10e7739d-d318-469e-8861-02e26f3ade8c",
     "showTitle": false,
     "title": ""
    }
   },
   "outputs": [
    {
     "output_type": "display_data",
     "data": {
      "text/html": [
       "<div>\n",
       "<style scoped>\n",
       "    .dataframe tbody tr th:only-of-type {\n",
       "        vertical-align: middle;\n",
       "    }\n",
       "\n",
       "    .dataframe tbody tr th {\n",
       "        vertical-align: top;\n",
       "    }\n",
       "\n",
       "    .dataframe thead th {\n",
       "        text-align: right;\n",
       "    }\n",
       "</style>\n",
       "<table border=\"1\" class=\"dataframe\">\n",
       "  <thead>\n",
       "    <tr style=\"text-align: right;\">\n",
       "      <th></th>\n",
       "      <th>Ano</th>\n",
       "      <th>Bolsas_Integrais</th>\n",
       "      <th>Bolsas_Parciais</th>\n",
       "      <th>Bolsas_Total</th>\n",
       "    </tr>\n",
       "  </thead>\n",
       "  <tbody>\n",
       "    <tr>\n",
       "      <th>0</th>\n",
       "      <td>2021</td>\n",
       "      <td>146.3</td>\n",
       "      <td>150.0</td>\n",
       "      <td>296.3</td>\n",
       "    </tr>\n",
       "    <tr>\n",
       "      <th>1</th>\n",
       "      <td>2020</td>\n",
       "      <td>182.9</td>\n",
       "      <td>237.4</td>\n",
       "      <td>420.3</td>\n",
       "    </tr>\n",
       "  </tbody>\n",
       "</table>\n",
       "</div>"
      ]
     },
     "metadata": {
      "application/vnd.databricks.v1+output": {
       "addedWidgets": {},
       "arguments": {},
       "data": "<div>\n<style scoped>\n    .dataframe tbody tr th:only-of-type {\n        vertical-align: middle;\n    }\n\n    .dataframe tbody tr th {\n        vertical-align: top;\n    }\n\n    .dataframe thead th {\n        text-align: right;\n    }\n</style>\n<table border=\"1\" class=\"dataframe\">\n  <thead>\n    <tr style=\"text-align: right;\">\n      <th></th>\n      <th>Ano</th>\n      <th>Bolsas_Integrais</th>\n      <th>Bolsas_Parciais</th>\n      <th>Bolsas_Total</th>\n    </tr>\n  </thead>\n  <tbody>\n    <tr>\n      <th>0</th>\n      <td>2021</td>\n      <td>146.3</td>\n      <td>150.0</td>\n      <td>296.3</td>\n    </tr>\n    <tr>\n      <th>1</th>\n      <td>2020</td>\n      <td>182.9</td>\n      <td>237.4</td>\n      <td>420.3</td>\n    </tr>\n  </tbody>\n</table>\n</div>",
       "datasetInfos": [],
       "metadata": {},
       "removedWidgets": [],
       "textData": null,
       "type": "htmlSandbox"
      }
     },
     "output_type": "display_data"
    }
   ],
   "source": [
    "df_pandas"
   ]
  },
  {
   "cell_type": "code",
   "execution_count": 0,
   "metadata": {
    "application/vnd.databricks.v1+cell": {
     "cellMetadata": {
      "byteLimit": 2048000,
      "rowLimit": 10000
     },
     "inputWidgets": {},
     "nuid": "5e7a126d-304a-4784-8a0b-2469100704bc",
     "showTitle": false,
     "title": ""
    }
   },
   "outputs": [
    {
     "output_type": "stream",
     "name": "stdout",
     "output_type": "stream",
     "text": [
      "<class 'pyspark.pandas.frame.DataFrame'>\n"
     ]
    }
   ],
   "source": [
    "print(type(df_pandas))"
   ]
  },
  {
   "cell_type": "code",
   "execution_count": 0,
   "metadata": {
    "application/vnd.databricks.v1+cell": {
     "cellMetadata": {
      "byteLimit": 2048000,
      "rowLimit": 10000
     },
     "inputWidgets": {},
     "nuid": "399f43ab-034c-4c03-a899-890955644f8f",
     "showTitle": false,
     "title": ""
    }
   },
   "outputs": [
    {
     "output_type": "display_data",
     "data": {
      "text/html": [
       "<html>\n",
       "<head><meta charset=\"utf-8\" /></head>\n",
       "<body>\n",
       "    <div>            <script src=\"https://cdnjs.cloudflare.com/ajax/libs/mathjax/2.7.5/MathJax.js?config=TeX-AMS-MML_SVG\"></script><script type=\"text/javascript\">if (window.MathJax) {MathJax.Hub.Config({SVG: {font: \"STIX-Web\"}});}</script>                <script type=\"text/javascript\">window.PlotlyConfig = {MathJaxConfig: 'local'};</script>\n",
       "        <script src=\"https://cdn.plot.ly/plotly-2.9.0.min.js\"></script>                <div id=\"0840935a-36de-4730-af74-3423b58af538\" class=\"plotly-graph-div\" style=\"height:100%; width:100%;\"></div>            <script type=\"text/javascript\">                                    window.PLOTLYENV=window.PLOTLYENV || {};                                    if (document.getElementById(\"0840935a-36de-4730-af74-3423b58af538\")) {                    Plotly.newPlot(                        \"0840935a-36de-4730-af74-3423b58af538\",                        [{\"alignmentgroup\":\"True\",\"hovertemplate\":\"variable=Bolsas_Integrais<br>Ano=%{x}<br>value=%{y}<extra></extra>\",\"legendgroup\":\"Bolsas_Integrais\",\"marker\":{\"color\":\"#636efa\",\"pattern\":{\"shape\":\"\"}},\"name\":\"Bolsas_Integrais\",\"offsetgroup\":\"Bolsas_Integrais\",\"orientation\":\"v\",\"showlegend\":true,\"textposition\":\"auto\",\"x\":[2021,2020],\"xaxis\":\"x\",\"y\":[146.3,182.9],\"yaxis\":\"y\",\"type\":\"bar\"},{\"alignmentgroup\":\"True\",\"hovertemplate\":\"variable=Bolsas_Parciais<br>Ano=%{x}<br>value=%{y}<extra></extra>\",\"legendgroup\":\"Bolsas_Parciais\",\"marker\":{\"color\":\"#EF553B\",\"pattern\":{\"shape\":\"\"}},\"name\":\"Bolsas_Parciais\",\"offsetgroup\":\"Bolsas_Parciais\",\"orientation\":\"v\",\"showlegend\":true,\"textposition\":\"auto\",\"x\":[2021,2020],\"xaxis\":\"x\",\"y\":[150.0,237.4],\"yaxis\":\"y\",\"type\":\"bar\"}],                        {\"template\":{\"data\":{\"bar\":[{\"error_x\":{\"color\":\"#2a3f5f\"},\"error_y\":{\"color\":\"#2a3f5f\"},\"marker\":{\"line\":{\"color\":\"#E5ECF6\",\"width\":0.5},\"pattern\":{\"fillmode\":\"overlay\",\"size\":10,\"solidity\":0.2}},\"type\":\"bar\"}],\"barpolar\":[{\"marker\":{\"line\":{\"color\":\"#E5ECF6\",\"width\":0.5},\"pattern\":{\"fillmode\":\"overlay\",\"size\":10,\"solidity\":0.2}},\"type\":\"barpolar\"}],\"carpet\":[{\"aaxis\":{\"endlinecolor\":\"#2a3f5f\",\"gridcolor\":\"white\",\"linecolor\":\"white\",\"minorgridcolor\":\"white\",\"startlinecolor\":\"#2a3f5f\"},\"baxis\":{\"endlinecolor\":\"#2a3f5f\",\"gridcolor\":\"white\",\"linecolor\":\"white\",\"minorgridcolor\":\"white\",\"startlinecolor\":\"#2a3f5f\"},\"type\":\"carpet\"}],\"choropleth\":[{\"colorbar\":{\"outlinewidth\":0,\"ticks\":\"\"},\"type\":\"choropleth\"}],\"contour\":[{\"colorbar\":{\"outlinewidth\":0,\"ticks\":\"\"},\"colorscale\":[[0.0,\"#0d0887\"],[0.1111111111111111,\"#46039f\"],[0.2222222222222222,\"#7201a8\"],[0.3333333333333333,\"#9c179e\"],[0.4444444444444444,\"#bd3786\"],[0.5555555555555556,\"#d8576b\"],[0.6666666666666666,\"#ed7953\"],[0.7777777777777778,\"#fb9f3a\"],[0.8888888888888888,\"#fdca26\"],[1.0,\"#f0f921\"]],\"type\":\"contour\"}],\"contourcarpet\":[{\"colorbar\":{\"outlinewidth\":0,\"ticks\":\"\"},\"type\":\"contourcarpet\"}],\"heatmap\":[{\"colorbar\":{\"outlinewidth\":0,\"ticks\":\"\"},\"colorscale\":[[0.0,\"#0d0887\"],[0.1111111111111111,\"#46039f\"],[0.2222222222222222,\"#7201a8\"],[0.3333333333333333,\"#9c179e\"],[0.4444444444444444,\"#bd3786\"],[0.5555555555555556,\"#d8576b\"],[0.6666666666666666,\"#ed7953\"],[0.7777777777777778,\"#fb9f3a\"],[0.8888888888888888,\"#fdca26\"],[1.0,\"#f0f921\"]],\"type\":\"heatmap\"}],\"heatmapgl\":[{\"colorbar\":{\"outlinewidth\":0,\"ticks\":\"\"},\"colorscale\":[[0.0,\"#0d0887\"],[0.1111111111111111,\"#46039f\"],[0.2222222222222222,\"#7201a8\"],[0.3333333333333333,\"#9c179e\"],[0.4444444444444444,\"#bd3786\"],[0.5555555555555556,\"#d8576b\"],[0.6666666666666666,\"#ed7953\"],[0.7777777777777778,\"#fb9f3a\"],[0.8888888888888888,\"#fdca26\"],[1.0,\"#f0f921\"]],\"type\":\"heatmapgl\"}],\"histogram\":[{\"marker\":{\"pattern\":{\"fillmode\":\"overlay\",\"size\":10,\"solidity\":0.2}},\"type\":\"histogram\"}],\"histogram2d\":[{\"colorbar\":{\"outlinewidth\":0,\"ticks\":\"\"},\"colorscale\":[[0.0,\"#0d0887\"],[0.1111111111111111,\"#46039f\"],[0.2222222222222222,\"#7201a8\"],[0.3333333333333333,\"#9c179e\"],[0.4444444444444444,\"#bd3786\"],[0.5555555555555556,\"#d8576b\"],[0.6666666666666666,\"#ed7953\"],[0.7777777777777778,\"#fb9f3a\"],[0.8888888888888888,\"#fdca26\"],[1.0,\"#f0f921\"]],\"type\":\"histogram2d\"}],\"histogram2dcontour\":[{\"colorbar\":{\"outlinewidth\":0,\"ticks\":\"\"},\"colorscale\":[[0.0,\"#0d0887\"],[0.1111111111111111,\"#46039f\"],[0.2222222222222222,\"#7201a8\"],[0.3333333333333333,\"#9c179e\"],[0.4444444444444444,\"#bd3786\"],[0.5555555555555556,\"#d8576b\"],[0.6666666666666666,\"#ed7953\"],[0.7777777777777778,\"#fb9f3a\"],[0.8888888888888888,\"#fdca26\"],[1.0,\"#f0f921\"]],\"type\":\"histogram2dcontour\"}],\"mesh3d\":[{\"colorbar\":{\"outlinewidth\":0,\"ticks\":\"\"},\"type\":\"mesh3d\"}],\"parcoords\":[{\"line\":{\"colorbar\":{\"outlinewidth\":0,\"ticks\":\"\"}},\"type\":\"parcoords\"}],\"pie\":[{\"automargin\":true,\"type\":\"pie\"}],\"scatter\":[{\"marker\":{\"colorbar\":{\"outlinewidth\":0,\"ticks\":\"\"}},\"type\":\"scatter\"}],\"scatter3d\":[{\"line\":{\"colorbar\":{\"outlinewidth\":0,\"ticks\":\"\"}},\"marker\":{\"colorbar\":{\"outlinewidth\":0,\"ticks\":\"\"}},\"type\":\"scatter3d\"}],\"scattercarpet\":[{\"marker\":{\"colorbar\":{\"outlinewidth\":0,\"ticks\":\"\"}},\"type\":\"scattercarpet\"}],\"scattergeo\":[{\"marker\":{\"colorbar\":{\"outlinewidth\":0,\"ticks\":\"\"}},\"type\":\"scattergeo\"}],\"scattergl\":[{\"marker\":{\"colorbar\":{\"outlinewidth\":0,\"ticks\":\"\"}},\"type\":\"scattergl\"}],\"scattermapbox\":[{\"marker\":{\"colorbar\":{\"outlinewidth\":0,\"ticks\":\"\"}},\"type\":\"scattermapbox\"}],\"scatterpolar\":[{\"marker\":{\"colorbar\":{\"outlinewidth\":0,\"ticks\":\"\"}},\"type\":\"scatterpolar\"}],\"scatterpolargl\":[{\"marker\":{\"colorbar\":{\"outlinewidth\":0,\"ticks\":\"\"}},\"type\":\"scatterpolargl\"}],\"scatterternary\":[{\"marker\":{\"colorbar\":{\"outlinewidth\":0,\"ticks\":\"\"}},\"type\":\"scatterternary\"}],\"surface\":[{\"colorbar\":{\"outlinewidth\":0,\"ticks\":\"\"},\"colorscale\":[[0.0,\"#0d0887\"],[0.1111111111111111,\"#46039f\"],[0.2222222222222222,\"#7201a8\"],[0.3333333333333333,\"#9c179e\"],[0.4444444444444444,\"#bd3786\"],[0.5555555555555556,\"#d8576b\"],[0.6666666666666666,\"#ed7953\"],[0.7777777777777778,\"#fb9f3a\"],[0.8888888888888888,\"#fdca26\"],[1.0,\"#f0f921\"]],\"type\":\"surface\"}],\"table\":[{\"cells\":{\"fill\":{\"color\":\"#EBF0F8\"},\"line\":{\"color\":\"white\"}},\"header\":{\"fill\":{\"color\":\"#C8D4E3\"},\"line\":{\"color\":\"white\"}},\"type\":\"table\"}]},\"layout\":{\"annotationdefaults\":{\"arrowcolor\":\"#2a3f5f\",\"arrowhead\":0,\"arrowwidth\":1},\"autotypenumbers\":\"strict\",\"coloraxis\":{\"colorbar\":{\"outlinewidth\":0,\"ticks\":\"\"}},\"colorscale\":{\"diverging\":[[0,\"#8e0152\"],[0.1,\"#c51b7d\"],[0.2,\"#de77ae\"],[0.3,\"#f1b6da\"],[0.4,\"#fde0ef\"],[0.5,\"#f7f7f7\"],[0.6,\"#e6f5d0\"],[0.7,\"#b8e186\"],[0.8,\"#7fbc41\"],[0.9,\"#4d9221\"],[1,\"#276419\"]],\"sequential\":[[0.0,\"#0d0887\"],[0.1111111111111111,\"#46039f\"],[0.2222222222222222,\"#7201a8\"],[0.3333333333333333,\"#9c179e\"],[0.4444444444444444,\"#bd3786\"],[0.5555555555555556,\"#d8576b\"],[0.6666666666666666,\"#ed7953\"],[0.7777777777777778,\"#fb9f3a\"],[0.8888888888888888,\"#fdca26\"],[1.0,\"#f0f921\"]],\"sequentialminus\":[[0.0,\"#0d0887\"],[0.1111111111111111,\"#46039f\"],[0.2222222222222222,\"#7201a8\"],[0.3333333333333333,\"#9c179e\"],[0.4444444444444444,\"#bd3786\"],[0.5555555555555556,\"#d8576b\"],[0.6666666666666666,\"#ed7953\"],[0.7777777777777778,\"#fb9f3a\"],[0.8888888888888888,\"#fdca26\"],[1.0,\"#f0f921\"]]},\"colorway\":[\"#636efa\",\"#EF553B\",\"#00cc96\",\"#ab63fa\",\"#FFA15A\",\"#19d3f3\",\"#FF6692\",\"#B6E880\",\"#FF97FF\",\"#FECB52\"],\"font\":{\"color\":\"#2a3f5f\"},\"geo\":{\"bgcolor\":\"white\",\"lakecolor\":\"white\",\"landcolor\":\"#E5ECF6\",\"showlakes\":true,\"showland\":true,\"subunitcolor\":\"white\"},\"hoverlabel\":{\"align\":\"left\"},\"hovermode\":\"closest\",\"mapbox\":{\"style\":\"light\"},\"paper_bgcolor\":\"white\",\"plot_bgcolor\":\"#E5ECF6\",\"polar\":{\"angularaxis\":{\"gridcolor\":\"white\",\"linecolor\":\"white\",\"ticks\":\"\"},\"bgcolor\":\"#E5ECF6\",\"radialaxis\":{\"gridcolor\":\"white\",\"linecolor\":\"white\",\"ticks\":\"\"}},\"scene\":{\"xaxis\":{\"backgroundcolor\":\"#E5ECF6\",\"gridcolor\":\"white\",\"gridwidth\":2,\"linecolor\":\"white\",\"showbackground\":true,\"ticks\":\"\",\"zerolinecolor\":\"white\"},\"yaxis\":{\"backgroundcolor\":\"#E5ECF6\",\"gridcolor\":\"white\",\"gridwidth\":2,\"linecolor\":\"white\",\"showbackground\":true,\"ticks\":\"\",\"zerolinecolor\":\"white\"},\"zaxis\":{\"backgroundcolor\":\"#E5ECF6\",\"gridcolor\":\"white\",\"gridwidth\":2,\"linecolor\":\"white\",\"showbackground\":true,\"ticks\":\"\",\"zerolinecolor\":\"white\"}},\"shapedefaults\":{\"line\":{\"color\":\"#2a3f5f\"}},\"ternary\":{\"aaxis\":{\"gridcolor\":\"white\",\"linecolor\":\"white\",\"ticks\":\"\"},\"baxis\":{\"gridcolor\":\"white\",\"linecolor\":\"white\",\"ticks\":\"\"},\"bgcolor\":\"#E5ECF6\",\"caxis\":{\"gridcolor\":\"white\",\"linecolor\":\"white\",\"ticks\":\"\"}},\"title\":{\"x\":0.05},\"xaxis\":{\"automargin\":true,\"gridcolor\":\"white\",\"linecolor\":\"white\",\"ticks\":\"\",\"title\":{\"standoff\":15},\"zerolinecolor\":\"white\",\"zerolinewidth\":2},\"yaxis\":{\"automargin\":true,\"gridcolor\":\"white\",\"linecolor\":\"white\",\"ticks\":\"\",\"title\":{\"standoff\":15},\"zerolinecolor\":\"white\",\"zerolinewidth\":2}}},\"xaxis\":{\"anchor\":\"y\",\"domain\":[0.0,1.0],\"title\":{\"text\":\"Ano\"}},\"yaxis\":{\"anchor\":\"x\",\"domain\":[0.0,1.0],\"title\":{\"text\":\"value\"}},\"legend\":{\"title\":{\"text\":\"variable\"},\"tracegroupgap\":0},\"margin\":{\"t\":60},\"barmode\":\"group\"},                        {\"responsive\": true}                    )                };                            </script>        </div>\n",
       "</body>\n",
       "</html>"
      ]
     },
     "metadata": {
      "application/vnd.databricks.v1+output": {
       "addedWidgets": {},
       "arguments": {},
       "data": "<html>\n<head><meta charset=\"utf-8\" /></head>\n<body>\n    <div>            <script src=\"https://cdnjs.cloudflare.com/ajax/libs/mathjax/2.7.5/MathJax.js?config=TeX-AMS-MML_SVG\"></script><script type=\"text/javascript\">if (window.MathJax) {MathJax.Hub.Config({SVG: {font: \"STIX-Web\"}});}</script>                <script type=\"text/javascript\">window.PlotlyConfig = {MathJaxConfig: 'local'};</script>\n        <script src=\"https://cdn.plot.ly/plotly-2.9.0.min.js\"></script>                <div id=\"0840935a-36de-4730-af74-3423b58af538\" class=\"plotly-graph-div\" style=\"height:100%; width:100%;\"></div>            <script type=\"text/javascript\">                                    window.PLOTLYENV=window.PLOTLYENV || {};                                    if (document.getElementById(\"0840935a-36de-4730-af74-3423b58af538\")) {                    Plotly.newPlot(                        \"0840935a-36de-4730-af74-3423b58af538\",                        [{\"alignmentgroup\":\"True\",\"hovertemplate\":\"variable=Bolsas_Integrais<br>Ano=%{x}<br>value=%{y}<extra></extra>\",\"legendgroup\":\"Bolsas_Integrais\",\"marker\":{\"color\":\"#636efa\",\"pattern\":{\"shape\":\"\"}},\"name\":\"Bolsas_Integrais\",\"offsetgroup\":\"Bolsas_Integrais\",\"orientation\":\"v\",\"showlegend\":true,\"textposition\":\"auto\",\"x\":[2021,2020],\"xaxis\":\"x\",\"y\":[146.3,182.9],\"yaxis\":\"y\",\"type\":\"bar\"},{\"alignmentgroup\":\"True\",\"hovertemplate\":\"variable=Bolsas_Parciais<br>Ano=%{x}<br>value=%{y}<extra></extra>\",\"legendgroup\":\"Bolsas_Parciais\",\"marker\":{\"color\":\"#EF553B\",\"pattern\":{\"shape\":\"\"}},\"name\":\"Bolsas_Parciais\",\"offsetgroup\":\"Bolsas_Parciais\",\"orientation\":\"v\",\"showlegend\":true,\"textposition\":\"auto\",\"x\":[2021,2020],\"xaxis\":\"x\",\"y\":[150.0,237.4],\"yaxis\":\"y\",\"type\":\"bar\"}],                        {\"template\":{\"data\":{\"bar\":[{\"error_x\":{\"color\":\"#2a3f5f\"},\"error_y\":{\"color\":\"#2a3f5f\"},\"marker\":{\"line\":{\"color\":\"#E5ECF6\",\"width\":0.5},\"pattern\":{\"fillmode\":\"overlay\",\"size\":10,\"solidity\":0.2}},\"type\":\"bar\"}],\"barpolar\":[{\"marker\":{\"line\":{\"color\":\"#E5ECF6\",\"width\":0.5},\"pattern\":{\"fillmode\":\"overlay\",\"size\":10,\"solidity\":0.2}},\"type\":\"barpolar\"}],\"carpet\":[{\"aaxis\":{\"endlinecolor\":\"#2a3f5f\",\"gridcolor\":\"white\",\"linecolor\":\"white\",\"minorgridcolor\":\"white\",\"startlinecolor\":\"#2a3f5f\"},\"baxis\":{\"endlinecolor\":\"#2a3f5f\",\"gridcolor\":\"white\",\"linecolor\":\"white\",\"minorgridcolor\":\"white\",\"startlinecolor\":\"#2a3f5f\"},\"type\":\"carpet\"}],\"choropleth\":[{\"colorbar\":{\"outlinewidth\":0,\"ticks\":\"\"},\"type\":\"choropleth\"}],\"contour\":[{\"colorbar\":{\"outlinewidth\":0,\"ticks\":\"\"},\"colorscale\":[[0.0,\"#0d0887\"],[0.1111111111111111,\"#46039f\"],[0.2222222222222222,\"#7201a8\"],[0.3333333333333333,\"#9c179e\"],[0.4444444444444444,\"#bd3786\"],[0.5555555555555556,\"#d8576b\"],[0.6666666666666666,\"#ed7953\"],[0.7777777777777778,\"#fb9f3a\"],[0.8888888888888888,\"#fdca26\"],[1.0,\"#f0f921\"]],\"type\":\"contour\"}],\"contourcarpet\":[{\"colorbar\":{\"outlinewidth\":0,\"ticks\":\"\"},\"type\":\"contourcarpet\"}],\"heatmap\":[{\"colorbar\":{\"outlinewidth\":0,\"ticks\":\"\"},\"colorscale\":[[0.0,\"#0d0887\"],[0.1111111111111111,\"#46039f\"],[0.2222222222222222,\"#7201a8\"],[0.3333333333333333,\"#9c179e\"],[0.4444444444444444,\"#bd3786\"],[0.5555555555555556,\"#d8576b\"],[0.6666666666666666,\"#ed7953\"],[0.7777777777777778,\"#fb9f3a\"],[0.8888888888888888,\"#fdca26\"],[1.0,\"#f0f921\"]],\"type\":\"heatmap\"}],\"heatmapgl\":[{\"colorbar\":{\"outlinewidth\":0,\"ticks\":\"\"},\"colorscale\":[[0.0,\"#0d0887\"],[0.1111111111111111,\"#46039f\"],[0.2222222222222222,\"#7201a8\"],[0.3333333333333333,\"#9c179e\"],[0.4444444444444444,\"#bd3786\"],[0.5555555555555556,\"#d8576b\"],[0.6666666666666666,\"#ed7953\"],[0.7777777777777778,\"#fb9f3a\"],[0.8888888888888888,\"#fdca26\"],[1.0,\"#f0f921\"]],\"type\":\"heatmapgl\"}],\"histogram\":[{\"marker\":{\"pattern\":{\"fillmode\":\"overlay\",\"size\":10,\"solidity\":0.2}},\"type\":\"histogram\"}],\"histogram2d\":[{\"colorbar\":{\"outlinewidth\":0,\"ticks\":\"\"},\"colorscale\":[[0.0,\"#0d0887\"],[0.1111111111111111,\"#46039f\"],[0.2222222222222222,\"#7201a8\"],[0.3333333333333333,\"#9c179e\"],[0.4444444444444444,\"#bd3786\"],[0.5555555555555556,\"#d8576b\"],[0.6666666666666666,\"#ed7953\"],[0.7777777777777778,\"#fb9f3a\"],[0.8888888888888888,\"#fdca26\"],[1.0,\"#f0f921\"]],\"type\":\"histogram2d\"}],\"histogram2dcontour\":[{\"colorbar\":{\"outlinewidth\":0,\"ticks\":\"\"},\"colorscale\":[[0.0,\"#0d0887\"],[0.1111111111111111,\"#46039f\"],[0.2222222222222222,\"#7201a8\"],[0.3333333333333333,\"#9c179e\"],[0.4444444444444444,\"#bd3786\"],[0.5555555555555556,\"#d8576b\"],[0.6666666666666666,\"#ed7953\"],[0.7777777777777778,\"#fb9f3a\"],[0.8888888888888888,\"#fdca26\"],[1.0,\"#f0f921\"]],\"type\":\"histogram2dcontour\"}],\"mesh3d\":[{\"colorbar\":{\"outlinewidth\":0,\"ticks\":\"\"},\"type\":\"mesh3d\"}],\"parcoords\":[{\"line\":{\"colorbar\":{\"outlinewidth\":0,\"ticks\":\"\"}},\"type\":\"parcoords\"}],\"pie\":[{\"automargin\":true,\"type\":\"pie\"}],\"scatter\":[{\"marker\":{\"colorbar\":{\"outlinewidth\":0,\"ticks\":\"\"}},\"type\":\"scatter\"}],\"scatter3d\":[{\"line\":{\"colorbar\":{\"outlinewidth\":0,\"ticks\":\"\"}},\"marker\":{\"colorbar\":{\"outlinewidth\":0,\"ticks\":\"\"}},\"type\":\"scatter3d\"}],\"scattercarpet\":[{\"marker\":{\"colorbar\":{\"outlinewidth\":0,\"ticks\":\"\"}},\"type\":\"scattercarpet\"}],\"scattergeo\":[{\"marker\":{\"colorbar\":{\"outlinewidth\":0,\"ticks\":\"\"}},\"type\":\"scattergeo\"}],\"scattergl\":[{\"marker\":{\"colorbar\":{\"outlinewidth\":0,\"ticks\":\"\"}},\"type\":\"scattergl\"}],\"scattermapbox\":[{\"marker\":{\"colorbar\":{\"outlinewidth\":0,\"ticks\":\"\"}},\"type\":\"scattermapbox\"}],\"scatterpolar\":[{\"marker\":{\"colorbar\":{\"outlinewidth\":0,\"ticks\":\"\"}},\"type\":\"scatterpolar\"}],\"scatterpolargl\":[{\"marker\":{\"colorbar\":{\"outlinewidth\":0,\"ticks\":\"\"}},\"type\":\"scatterpolargl\"}],\"scatterternary\":[{\"marker\":{\"colorbar\":{\"outlinewidth\":0,\"ticks\":\"\"}},\"type\":\"scatterternary\"}],\"surface\":[{\"colorbar\":{\"outlinewidth\":0,\"ticks\":\"\"},\"colorscale\":[[0.0,\"#0d0887\"],[0.1111111111111111,\"#46039f\"],[0.2222222222222222,\"#7201a8\"],[0.3333333333333333,\"#9c179e\"],[0.4444444444444444,\"#bd3786\"],[0.5555555555555556,\"#d8576b\"],[0.6666666666666666,\"#ed7953\"],[0.7777777777777778,\"#fb9f3a\"],[0.8888888888888888,\"#fdca26\"],[1.0,\"#f0f921\"]],\"type\":\"surface\"}],\"table\":[{\"cells\":{\"fill\":{\"color\":\"#EBF0F8\"},\"line\":{\"color\":\"white\"}},\"header\":{\"fill\":{\"color\":\"#C8D4E3\"},\"line\":{\"color\":\"white\"}},\"type\":\"table\"}]},\"layout\":{\"annotationdefaults\":{\"arrowcolor\":\"#2a3f5f\",\"arrowhead\":0,\"arrowwidth\":1},\"autotypenumbers\":\"strict\",\"coloraxis\":{\"colorbar\":{\"outlinewidth\":0,\"ticks\":\"\"}},\"colorscale\":{\"diverging\":[[0,\"#8e0152\"],[0.1,\"#c51b7d\"],[0.2,\"#de77ae\"],[0.3,\"#f1b6da\"],[0.4,\"#fde0ef\"],[0.5,\"#f7f7f7\"],[0.6,\"#e6f5d0\"],[0.7,\"#b8e186\"],[0.8,\"#7fbc41\"],[0.9,\"#4d9221\"],[1,\"#276419\"]],\"sequential\":[[0.0,\"#0d0887\"],[0.1111111111111111,\"#46039f\"],[0.2222222222222222,\"#7201a8\"],[0.3333333333333333,\"#9c179e\"],[0.4444444444444444,\"#bd3786\"],[0.5555555555555556,\"#d8576b\"],[0.6666666666666666,\"#ed7953\"],[0.7777777777777778,\"#fb9f3a\"],[0.8888888888888888,\"#fdca26\"],[1.0,\"#f0f921\"]],\"sequentialminus\":[[0.0,\"#0d0887\"],[0.1111111111111111,\"#46039f\"],[0.2222222222222222,\"#7201a8\"],[0.3333333333333333,\"#9c179e\"],[0.4444444444444444,\"#bd3786\"],[0.5555555555555556,\"#d8576b\"],[0.6666666666666666,\"#ed7953\"],[0.7777777777777778,\"#fb9f3a\"],[0.8888888888888888,\"#fdca26\"],[1.0,\"#f0f921\"]]},\"colorway\":[\"#636efa\",\"#EF553B\",\"#00cc96\",\"#ab63fa\",\"#FFA15A\",\"#19d3f3\",\"#FF6692\",\"#B6E880\",\"#FF97FF\",\"#FECB52\"],\"font\":{\"color\":\"#2a3f5f\"},\"geo\":{\"bgcolor\":\"white\",\"lakecolor\":\"white\",\"landcolor\":\"#E5ECF6\",\"showlakes\":true,\"showland\":true,\"subunitcolor\":\"white\"},\"hoverlabel\":{\"align\":\"left\"},\"hovermode\":\"closest\",\"mapbox\":{\"style\":\"light\"},\"paper_bgcolor\":\"white\",\"plot_bgcolor\":\"#E5ECF6\",\"polar\":{\"angularaxis\":{\"gridcolor\":\"white\",\"linecolor\":\"white\",\"ticks\":\"\"},\"bgcolor\":\"#E5ECF6\",\"radialaxis\":{\"gridcolor\":\"white\",\"linecolor\":\"white\",\"ticks\":\"\"}},\"scene\":{\"xaxis\":{\"backgroundcolor\":\"#E5ECF6\",\"gridcolor\":\"white\",\"gridwidth\":2,\"linecolor\":\"white\",\"showbackground\":true,\"ticks\":\"\",\"zerolinecolor\":\"white\"},\"yaxis\":{\"backgroundcolor\":\"#E5ECF6\",\"gridcolor\":\"white\",\"gridwidth\":2,\"linecolor\":\"white\",\"showbackground\":true,\"ticks\":\"\",\"zerolinecolor\":\"white\"},\"zaxis\":{\"backgroundcolor\":\"#E5ECF6\",\"gridcolor\":\"white\",\"gridwidth\":2,\"linecolor\":\"white\",\"showbackground\":true,\"ticks\":\"\",\"zerolinecolor\":\"white\"}},\"shapedefaults\":{\"line\":{\"color\":\"#2a3f5f\"}},\"ternary\":{\"aaxis\":{\"gridcolor\":\"white\",\"linecolor\":\"white\",\"ticks\":\"\"},\"baxis\":{\"gridcolor\":\"white\",\"linecolor\":\"white\",\"ticks\":\"\"},\"bgcolor\":\"#E5ECF6\",\"caxis\":{\"gridcolor\":\"white\",\"linecolor\":\"white\",\"ticks\":\"\"}},\"title\":{\"x\":0.05},\"xaxis\":{\"automargin\":true,\"gridcolor\":\"white\",\"linecolor\":\"white\",\"ticks\":\"\",\"title\":{\"standoff\":15},\"zerolinecolor\":\"white\",\"zerolinewidth\":2},\"yaxis\":{\"automargin\":true,\"gridcolor\":\"white\",\"linecolor\":\"white\",\"ticks\":\"\",\"title\":{\"standoff\":15},\"zerolinecolor\":\"white\",\"zerolinewidth\":2}}},\"xaxis\":{\"anchor\":\"y\",\"domain\":[0.0,1.0],\"title\":{\"text\":\"Ano\"}},\"yaxis\":{\"anchor\":\"x\",\"domain\":[0.0,1.0],\"title\":{\"text\":\"value\"}},\"legend\":{\"title\":{\"text\":\"variable\"},\"tracegroupgap\":0},\"margin\":{\"t\":60},\"barmode\":\"group\"},                        {\"responsive\": true}                    )                };                            </script>        </div>\n</body>\n</html>",
       "datasetInfos": [],
       "metadata": {},
       "removedWidgets": [],
       "textData": null,
       "type": "htmlSandbox"
      }
     },
     "output_type": "display_data"
    }
   ],
   "source": [
    "df_pandas.plot.bar(x='Ano',y=['Bolsas_Integrais','Bolsas_Parciais'],barmode='group')"
   ]
  },
  {
   "cell_type": "code",
   "execution_count": 0,
   "metadata": {
    "application/vnd.databricks.v1+cell": {
     "cellMetadata": {
      "byteLimit": 2048000,
      "rowLimit": 10000
     },
     "inputWidgets": {},
     "nuid": "a638267b-3b89-4bb4-a2d7-583f750db7a3",
     "showTitle": false,
     "title": ""
    }
   },
   "outputs": [],
   "source": [
    "url_universidades = 'https://pt.wikipedia.org/wiki/Ensino_superior_no_Brasil'"
   ]
  },
  {
   "cell_type": "code",
   "execution_count": 0,
   "metadata": {
    "application/vnd.databricks.v1+cell": {
     "cellMetadata": {
      "byteLimit": 2048000,
      "rowLimit": 10000
     },
     "inputWidgets": {},
     "nuid": "d54c72a7-a5bb-4b88-99a6-e26f47b205a4",
     "showTitle": false,
     "title": ""
    }
   },
   "outputs": [
    {
     "output_type": "stream",
     "name": "stdout",
     "output_type": "stream",
     "text": [
      "Collecting lxml\r\n  Downloading lxml-5.2.2-cp39-cp39-manylinux_2_28_x86_64.whl (5.0 MB)\r\n\u001B[?25l\r\u001B[K     |                                | 10 kB 26.7 MB/s eta 0:00:01\r\u001B[K     |▏                               | 20 kB 6.6 MB/s eta 0:00:01\r\u001B[K     |▏                               | 30 kB 9.3 MB/s eta 0:00:01\r\u001B[K     |▎                               | 40 kB 4.5 MB/s eta 0:00:02\r\u001B[K     |▎                               | 51 kB 4.6 MB/s eta 0:00:02\r\u001B[K     |▍                               | 61 kB 5.4 MB/s eta 0:00:01\r\u001B[K     |▌                               | 71 kB 5.5 MB/s eta 0:00:01\r\u001B[K     |▌                               | 81 kB 5.7 MB/s eta 0:00:01\r\u001B[K     |▋                               | 92 kB 6.3 MB/s eta 0:00:01\r\u001B[K     |▋                               | 102 kB 5.1 MB/s eta 0:00:01\r\u001B[K     |▊                               | 112 kB 5.1 MB/s eta 0:00:01\r\u001B[K     |▉                               | 122 kB 5.1 MB/s eta 0:00:01\r\u001B[K     |▉                               | 133 kB 5.1 MB/s eta 0:00:01\r\u001B[K     |█                               | 143 kB 5.1 MB/s eta 0:00:01\r\u001B[K     |█                               | 153 kB 5.1 MB/s eta 0:00:01\r\u001B[K     |█                               | 163 kB 5.1 MB/s eta 0:00:01\r\u001B[K     |█                               | 174 kB 5.1 MB/s eta 0:00:01\r\u001B[K     |█▏                              | 184 kB 5.1 MB/s eta 0:00:01\r\u001B[K     |█▎                              | 194 kB 5.1 MB/s eta 0:00:01\r\u001B[K     |█▎                              | 204 kB 5.1 MB/s eta 0:00:01\r\u001B[K     |█▍                              | 215 kB 5.1 MB/s eta 0:00:01\r\u001B[K     |█▍                              | 225 kB 5.1 MB/s eta 0:00:01\r\u001B[K     |█▌                              | 235 kB 5.1 MB/s eta 0:00:01\r\u001B[K     |█▋                              | 245 kB 5.1 MB/s eta 0:00:01\r\u001B[K     |█▋                              | 256 kB 5.1 MB/s eta 0:00:01\r\u001B[K     |█▊                              | 266 kB 5.1 MB/s eta 0:00:01\r\u001B[K     |█▊                              | 276 kB 5.1 MB/s eta 0:00:01\r\u001B[K     |█▉                              | 286 kB 5.1 MB/s eta 0:00:01\r\u001B[K     |██                              | 296 kB 5.1 MB/s eta 0:00:01\r\u001B[K     |██                              | 307 kB 5.1 MB/s eta 0:00:01\r\u001B[K     |██                              | 317 kB 5.1 MB/s eta 0:00:01\r\u001B[K     |██                              | 327 kB 5.1 MB/s eta 0:00:01\r\u001B[K     |██▏                             | 337 kB 5.1 MB/s eta 0:00:01\r\u001B[K     |██▏                             | 348 kB 5.1 MB/s eta 0:00:01\r\u001B[K     |██▎                             | 358 kB 5.1 MB/s eta 0:00:01\r\u001B[K     |██▍                             | 368 kB 5.1 MB/s eta 0:00:01\r\u001B[K     |██▍                             | 378 kB 5.1 MB/s eta 0:00:01\r\u001B[K     |██▌                             | 389 kB 5.1 MB/s eta 0:00:01\r\u001B[K     |██▌                             | 399 kB 5.1 MB/s eta 0:00:01\r\u001B[K     |██▋                             | 409 kB 5.1 MB/s eta 0:00:01\r\u001B[K     |██▊                             | 419 kB 5.1 MB/s eta 0:00:01\r\u001B[K     |██▊                             | 430 kB 5.1 MB/s eta 0:00:01\r\u001B[K     |██▉                             | 440 kB 5.1 MB/s eta 0:00:01\r\u001B[K     |██▉                             | 450 kB 5.1 MB/s eta 0:00:01\r\u001B[K     |███                             | 460 kB 5.1 MB/s eta 0:00:01\r\u001B[K     |███                             | 471 kB 5.1 MB/s eta 0:00:01\r\u001B[K     |███                             | 481 kB 5.1 MB/s eta 0:00:01\r\u001B[K     |███▏                            | 491 kB 5.1 MB/s eta 0:00:01\r\u001B[K     |███▏                            | 501 kB 5.1 MB/s eta 0:00:01\r\u001B[K     |███▎                            | 512 kB 5.1 MB/s eta 0:00:01\r\u001B[K     |███▎                            | 522 kB 5.1 MB/s eta 0:00:01\r\u001B[K     |███▍                            | 532 kB 5.1 MB/s eta 0:00:01\r\u001B[K     |███▌                            | 542 kB 5.1 MB/s eta 0:00:01\r\u001B[K     |███▌                            | 552 kB 5.1 MB/s eta 0:00:01\r\u001B[K     |███▋                            | 563 kB 5.1 MB/s eta 0:00:01\r\u001B[K     |███▋                            | 573 kB 5.1 MB/s eta 0:00:01\r\u001B[K     |███▊                            | 583 kB 5.1 MB/s eta 0:00:01\r\u001B[K     |███▉                            | 593 kB 5.1 MB/s eta 0:00:01\r\u001B[K     |███▉                            | 604 kB 5.1 MB/s eta 0:00:01\r\u001B[K     |████                            | 614 kB 5.1 MB/s eta 0:00:01\r\u001B[K     |████                            | 624 kB 5.1 MB/s eta 0:00:01\r\u001B[K     |████                            | 634 kB 5.1 MB/s eta 0:00:01\r\u001B[K     |████                            | 645 kB 5.1 MB/s eta 0:00:01\r\u001B[K     |████▏                           | 655 kB 5.1 MB/s eta 0:00:01\r\u001B[K     |████▎                           | 665 kB 5.1 MB/s eta 0:00:01\r\u001B[K     |████▎                           | 675 kB 5.1 MB/s eta 0:00:01\r\u001B[K     |████▍                           | 686 kB 5.1 MB/s eta 0:00:01\r\u001B[K     |████▍                           | 696 kB 5.1 MB/s eta 0:00:01\r\u001B[K     |████▌                           | 706 kB 5.1 MB/s eta 0:00:01\r\u001B[K     |████▋                           | 716 kB 5.1 MB/s eta 0:00:01\r\u001B[K     |████▋                           | 727 kB 5.1 MB/s eta 0:00:01\r\u001B[K     |████▊                           | 737 kB 5.1 MB/s eta 0:00:01\r\u001B[K     |████▊                           | 747 kB 5.1 MB/s eta 0:00:01\r\u001B[K     |████▉                           | 757 kB 5.1 MB/s eta 0:00:01\r\u001B[K     |████▉                           | 768 kB 5.1 MB/s eta 0:00:01\r\u001B[K     |█████                           | 778 kB 5.1 MB/s eta 0:00:01\r\u001B[K     |█████                           | 788 kB 5.1 MB/s eta 0:00:01\r\u001B[K     |█████                           | 798 kB 5.1 MB/s eta 0:00:01\r\u001B[K     |█████▏                          | 808 kB 5.1 MB/s eta 0:00:01\r\u001B[K     |█████▏                          | 819 kB 5.1 MB/s eta 0:00:01\r\u001B[K     |█████▎                          | 829 kB 5.1 MB/s eta 0:00:01\r\u001B[K     |█████▍                          | 839 kB 5.1 MB/s eta 0:00:01\r\u001B[K     |█████▍                          | 849 kB 5.1 MB/s eta 0:00:01\r\u001B[K     |█████▌                          | 860 kB 5.1 MB/s eta 0:00:01\r\u001B[K     |█████▌                          | 870 kB 5.1 MB/s eta 0:00:01\r\u001B[K     |█████▋                          | 880 kB 5.1 MB/s eta 0:00:01\r\u001B[K     |█████▊                          | 890 kB 5.1 MB/s eta 0:00:01\r\u001B[K     |█████▊                          | 901 kB 5.1 MB/s eta 0:00:01\r\u001B[K     |█████▉                          | 911 kB 5.1 MB/s eta 0:00:01\r\u001B[K     |█████▉                          | 921 kB 5.1 MB/s eta 0:00:01\r\u001B[K     |██████                          | 931 kB 5.1 MB/s eta 0:00:01\r\u001B[K     |██████                          | 942 kB 5.1 MB/s eta 0:00:01\r\u001B[K     |██████                          | 952 kB 5.1 MB/s eta 0:00:01\r\u001B[K     |██████▏                         | 962 kB 5.1 MB/s eta 0:00:01\r\u001B[K     |██████▏                         | 972 kB 5.1 MB/s eta 0:00:01\r\u001B[K     |██████▎                         | 983 kB 5.1 MB/s eta 0:00:01\r\u001B[K     |██████▎                         | 993 kB 5.1 MB/s eta 0:00:01\r\u001B[K     |██████▍                         | 1.0 MB 5.1 MB/s eta 0:00:01\r\u001B[K     |██████▌                         | 1.0 MB 5.1 MB/s eta 0:00:01\r\u001B[K     |██████▌                         | 1.0 MB 5.1 MB/s eta 0:00:01\r\u001B[K     |██████▋                         | 1.0 MB 5.1 MB/s eta 0:00:01\r\u001B[K     |██████▋                         | 1.0 MB 5.1 MB/s eta 0:00:01\r\u001B[K     |██████▊                         | 1.1 MB 5.1 MB/s eta 0:00:01\r\u001B[K     |██████▊                         | 1.1 MB 5.1 MB/s eta 0:00:01\r\u001B[K     |██████▉                         | 1.1 MB 5.1 MB/s eta 0:00:01\r\u001B[K     |███████                         | 1.1 MB 5.1 MB/s eta 0:00:01\r\u001B[K     |███████                         | 1.1 MB 5.1 MB/s eta 0:00:01\r\u001B[K     |███████                         | 1.1 MB 5.1 MB/s eta 0:00:01\r\u001B[K     |███████                         | 1.1 MB 5.1 MB/s eta 0:00:01\r\u001B[K     |███████▏                        | 1.1 MB 5.1 MB/s eta 0:00:01\r\u001B[K     |███████▎                        | 1.1 MB 5.1 MB/s eta 0:00:01\r\u001B[K     |███████▎                        | 1.1 MB 5.1 MB/s eta 0:00:01\r\u001B[K     |███████▍                        | 1.2 MB 5.1 MB/s eta 0:00:01\r\u001B[K     |███████▍                        | 1.2 MB 5.1 MB/s eta 0:00:01\r\u001B[K     |███████▌                        | 1.2 MB 5.1 MB/s eta 0:00:01\r\u001B[K     |███████▋                        | 1.2 MB 5.1 MB/s eta 0:00:01\r\u001B[K     |███████▋                        | 1.2 MB 5.1 MB/s eta 0:00:01\r\u001B[K     |███████▊                        | 1.2 MB 5.1 MB/s eta 0:00:01\r\u001B[K     |███████▊                        | 1.2 MB 5.1 MB/s eta 0:00:01\r\u001B[K     |███████▉                        | 1.2 MB 5.1 MB/s eta 0:00:01\r\u001B[K     |███████▉                        | 1.2 MB 5.1 MB/s eta 0:00:01\r\u001B[K     |████████                        | 1.2 MB 5.1 MB/s eta 0:00:01\r\u001B[K     |████████                        | 1.3 MB 5.1 MB/s eta 0:00:01\r\u001B[K     |████████                        | 1.3 MB 5.1 MB/s eta 0:00:01\r\u001B[K     |████████▏                       | 1.3 MB 5.1 MB/s eta 0:00:01\r\u001B[K     |████████▏                       | 1.3 MB 5.1 MB/s eta 0:00:01\r\u001B[K     |████████▎                       | 1.3 MB 5.1 MB/s eta 0:00:01\r\u001B[K     |████████▍                       | 1.3 MB 5.1 MB/s eta 0:00:01\r\u001B[K     |████████▍                       | 1.3 MB 5.1 MB/s eta 0:00:01\r\u001B[K     |████████▌                       | 1.3 MB 5.1 MB/s eta 0:00:01\r\u001B[K     |████████▌                       | 1.3 MB 5.1 MB/s eta 0:00:01\r\u001B[K     |████████▋                       | 1.4 MB 5.1 MB/s eta 0:00:01\r\u001B[K     |████████▊                       | 1.4 MB 5.1 MB/s eta 0:00:01\r\u001B[K     |████████▊                       | 1.4 MB 5.1 MB/s eta 0:00:01\r\u001B[K     |████████▉                       | 1.4 MB 5.1 MB/s eta 0:00:01\r\u001B[K     |████████▉                       | 1.4 MB 5.1 MB/s eta 0:00:01\r\u001B[K     |█████████                       | 1.4 MB 5.1 MB/s eta 0:00:01\r\u001B[K     |█████████                       | 1.4 MB 5.1 MB/s eta 0:00:01\r\u001B[K     |█████████                       | 1.4 MB 5.1 MB/s eta 0:00:01\r\u001B[K     |█████████▏                      | 1.4 MB 5.1 MB/s eta 0:00:01\r\u001B[K     |█████████▏                      | 1.4 MB 5.1 MB/s eta 0:00:01\r\u001B[K     |█████████▎                      | 1.5 MB 5.1 MB/s eta 0:00:01\r\u001B[K     |█████████▎                      | 1.5 MB 5.1 MB/s eta 0:00:01\r\u001B[K     |█████████▍                      | 1.5 MB 5.1 MB/s eta 0:00:01\r\u001B[K     |█████████▌                      | 1.5 MB 5.1 MB/s eta 0:00:01\r\u001B[K     |█████████▌                      | 1.5 MB 5.1 MB/s eta 0:00:01\r\u001B[K     |█████████▋                      | 1.5 MB 5.1 MB/s eta 0:00:01\r\u001B[K     |█████████▋                      | 1.5 MB 5.1 MB/s eta 0:00:01\r\u001B[K     |█████████▊                      | 1.5 MB 5.1 MB/s eta 0:00:01\r\u001B[K     |█████████▊                      | 1.5 MB 5.1 MB/s eta 0:00:01\r\u001B[K     |█████████▉                      | 1.5 MB 5.1 MB/s eta 0:00:01\r\u001B[K     |██████████                      | 1.6 MB 5.1 MB/s eta 0:00:01\r\u001B[K     |██████████                      | 1.6 MB 5.1 MB/s eta 0:00:01\r\u001B[K     |██████████                      | 1.6 MB 5.1 MB/s eta 0:00:01\r\u001B[K     |██████████                      | 1.6 MB 5.1 MB/s eta 0:00:01\r\u001B[K     |██████████▏                     | 1.6 MB 5.1 MB/s eta 0:00:01\r\u001B[K     |██████████▎                     | 1.6 MB 5.1 MB/s eta 0:00:01\r\u001B[K     |██████████▎                     | 1.6 MB 5.1 MB/s eta 0:00:01\r\u001B[K     |██████████▍                     | 1.6 MB 5.1 MB/s eta 0:00:01\r\u001B[K     |██████████▍                     | 1.6 MB 5.1 MB/s eta 0:00:01\r\u001B[K     |██████████▌                     | 1.6 MB 5.1 MB/s eta 0:00:01\r\u001B[K     |██████████▋                     | 1.7 MB 5.1 MB/s eta 0:00:01\r\u001B[K     |██████████▋                     | 1.7 MB 5.1 MB/s eta 0:00:01\r\u001B[K     |██████████▊                     | 1.7 MB 5.1 MB/s eta 0:00:01\r\u001B[K     |██████████▊                     | 1.7 MB 5.1 MB/s eta 0:00:01\r\u001B[K     |██████████▉                     | 1.7 MB 5.1 MB/s eta 0:00:01\r\u001B[K     |██████████▉                     | 1.7 MB 5.1 MB/s eta 0:00:01\r\u001B[K     |███████████                     | 1.7 MB 5.1 MB/s eta 0:00:01\r\u001B[K     |███████████                     | 1.7 MB 5.1 MB/s eta 0:00:01\r\u001B[K     |███████████                     | 1.7 MB 5.1 MB/s eta 0:00:01\r\u001B[K     |███████████▏                    | 1.8 MB 5.1 MB/s eta 0:00:01\r\u001B[K     |███████████▏                    | 1.8 MB 5.1 MB/s eta 0:00:01\r\u001B[K     |███████████▎                    | 1.8 MB 5.1 MB/s eta 0:00:01\r\u001B[K     |███████████▍                    | 1.8 MB 5.1 MB/s eta 0:00:01\r\u001B[K     |███████████▍                    | 1.8 MB 5.1 MB/s eta 0:00:01\r\u001B[K     |███████████▌                    | 1.8 MB 5.1 MB/s eta 0:00:01\r\u001B[K     |███████████▌                    | 1.8 MB 5.1 MB/s eta 0:00:01\r\u001B[K     |███████████▋                    | 1.8 MB 5.1 MB/s eta 0:00:01\r\u001B[K     |███████████▋                    | 1.8 MB 5.1 MB/s eta 0:00:01\r\u001B[K     |███████████▊                    | 1.8 MB 5.1 MB/s eta 0:00:01\r\u001B[K     |███████████▉                    | 1.9 MB 5.1 MB/s eta 0:00:01\r\u001B[K     |███████████▉                    | 1.9 MB 5.1 MB/s eta 0:00:01\r\u001B[K     |████████████                    | 1.9 MB 5.1 MB/s eta 0:00:01\r\u001B[K     |████████████                    | 1.9 MB 5.1 MB/s eta 0:00:01\r\u001B[K     |████████████                    | 1.9 MB 5.1 MB/s eta 0:00:01\r\u001B[K     |████████████▏                   | 1.9 MB 5.1 MB/s eta 0:00:01\r\u001B[K     |████████████▏                   | 1.9 MB 5.1 MB/s eta 0:00:01\r\u001B[K     |████████████▎                   | 1.9 MB 5.1 MB/s eta 0:00:01\r\u001B[K     |████████████▎                   | 1.9 MB 5.1 MB/s eta 0:00:01\r\u001B[K     |████████████▍                   | 1.9 MB 5.1 MB/s eta 0:00:01\r\u001B[K     |████████████▌                   | 2.0 MB 5.1 MB/s eta 0:00:01\r\u001B[K     |████████████▌                   | 2.0 MB 5.1 MB/s eta 0:00:01\r\u001B[K     |████████████▋                   | 2.0 MB 5.1 MB/s eta 0:00:01\r\u001B[K     |████████████▋                   | 2.0 MB 5.1 MB/s eta 0:00:01\r\u001B[K     |████████████▊                   | 2.0 MB 5.1 MB/s eta 0:00:01\r\u001B[K     |████████████▊                   | 2.0 MB 5.1 MB/s eta 0:00:01\r\u001B[K     |████████████▉                   | 2.0 MB 5.1 MB/s eta 0:00:01\r\u001B[K     |█████████████                   | 2.0 MB 5.1 MB/s eta 0:00:01\r\u001B[K     |█████████████                   | 2.0 MB 5.1 MB/s eta 0:00:01\r\u001B[K     |█████████████                   | 2.0 MB 5.1 MB/s eta 0:00:01\r\u001B[K     |█████████████                   | 2.1 MB 5.1 MB/s eta 0:00:01\r\u001B[K     |█████████████▏                  | 2.1 MB 5.1 MB/s eta 0:00:01\r\u001B[K     |█████████████▎                  | 2.1 MB 5.1 MB/s eta 0:00:01\r\u001B[K     |█████████████▎                  | 2.1 MB 5.1 MB/s eta 0:00:01\r\u001B[K     |█████████████▍                  | 2.1 MB 5.1 MB/s eta 0:00:01\r\u001B[K     |█████████████▍                  | 2.1 MB 5.1 MB/s eta 0:00:01\r\u001B[K     |█████████████▌                  | 2.1 MB 5.1 MB/s eta 0:00:01\r\u001B[K     |█████████████▌                  | 2.1 MB 5.1 MB/s eta 0:00:01\r\u001B[K     |█████████████▋                  | 2.1 MB 5.1 MB/s eta 0:00:01\r\u001B[K     |█████████████▊                  | 2.2 MB 5.1 MB/s eta 0:00:01\r\u001B[K     |█████████████▊                  | 2.2 MB 5.1 MB/s eta 0:00:01\r\u001B[K     |█████████████▉                  | 2.2 MB 5.1 MB/s eta 0:00:01\r\u001B[K     |█████████████▉                  | 2.2 MB 5.1 MB/s eta 0:00:01\r\u001B[K     |██████████████                  | 2.2 MB 5.1 MB/s eta 0:00:01\r\u001B[K     |██████████████                  | 2.2 MB 5.1 MB/s eta 0:00:01\r\u001B[K     |██████████████                  | 2.2 MB 5.1 MB/s eta 0:00:01\r\u001B[K     |██████████████▏                 | 2.2 MB 5.1 MB/s eta 0:00:01\r\u001B[K     |██████████████▏                 | 2.2 MB 5.1 MB/s eta 0:00:01\r\u001B[K     |██████████████▎                 | 2.2 MB 5.1 MB/s eta 0:00:01\r\u001B[K     |██████████████▍                 | 2.3 MB 5.1 MB/s eta 0:00:01\r\u001B[K     |██████████████▍                 | 2.3 MB 5.1 MB/s eta 0:00:01\r\u001B[K     |██████████████▌                 | 2.3 MB 5.1 MB/s eta 0:00:01\r\u001B[K     |██████████████▌                 | 2.3 MB 5.1 MB/s eta 0:00:01\r\u001B[K     |██████████████▋                 | 2.3 MB 5.1 MB/s eta 0:00:01\r\u001B[K     |██████████████▋                 | 2.3 MB 5.1 MB/s eta 0:00:01\r\u001B[K     |██████████████▊                 | 2.3 MB 5.1 MB/s eta 0:00:01\r\u001B[K     |██████████████▉                 | 2.3 MB 5.1 MB/s eta 0:00:01\r\u001B[K     |██████████████▉                 | 2.3 MB 5.1 MB/s eta 0:00:01\r\u001B[K     |███████████████                 | 2.3 MB 5.1 MB/s eta 0:00:01\r\u001B[K     |███████████████                 | 2.4 MB 5.1 MB/s eta 0:00:01\r\u001B[K     |███████████████                 | 2.4 MB 5.1 MB/s eta 0:00:01\r\u001B[K     |███████████████▏                | 2.4 MB 5.1 MB/s eta 0:00:01\r\u001B[K     |███████████████▏                | 2.4 MB 5.1 MB/s eta 0:00:01\r\u001B[K     |███████████████▎                | 2.4 MB 5.1 MB/s eta 0:00:01\r\u001B[K     |███████████████▎                | 2.4 MB 5.1 MB/s eta 0:00:01\r\u001B[K     |███████████████▍                | 2.4 MB 5.1 MB/s eta 0:00:01\r\u001B[K     |███████████████▌                | 2.4 MB 5.1 MB/s eta 0:00:01\r\u001B[K     |███████████████▌                | 2.4 MB 5.1 MB/s eta 0:00:01\r\u001B[K     |███████████████▋                | 2.4 MB 5.1 MB/s eta 0:00:01\r\u001B[K     |███████████████▋                | 2.5 MB 5.1 MB/s eta 0:00:01\r\u001B[K     |███████████████▊                | 2.5 MB 5.1 MB/s eta 0:00:01\r\u001B[K     |███████████████▊                | 2.5 MB 5.1 MB/s eta 0:00:01\r\u001B[K     |███████████████▉                | 2.5 MB 5.1 MB/s eta 0:00:01\r\u001B[K     |████████████████                | 2.5 MB 5.1 MB/s eta 0:00:01\r\u001B[K     |████████████████                | 2.5 MB 5.1 MB/s eta 0:00:01\r\u001B[K     |████████████████                | 2.5 MB 5.1 MB/s eta 0:00:01\r\u001B[K     |████████████████                | 2.5 MB 5.1 MB/s eta 0:00:01\r\u001B[K     |████████████████▏               | 2.5 MB 5.1 MB/s eta 0:00:01\r\u001B[K     |████████████████▎               | 2.5 MB 5.1 MB/s eta 0:00:01\r\u001B[K     |████████████████▎               | 2.6 MB 5.1 MB/s eta 0:00:01\r\u001B[K     |████████████████▍               | 2.6 MB 5.1 MB/s eta 0:00:01\r\u001B[K     |████████████████▍               | 2.6 MB 5.1 MB/s eta 0:00:01\r\u001B[K     |████████████████▌               | 2.6 MB 5.1 MB/s eta 0:00:01\r\u001B[K     |████████████████▌               | 2.6 MB 5.1 MB/s eta 0:00:01\r\u001B[K     |████████████████▋               | 2.6 MB 5.1 MB/s eta 0:00:01\r\u001B[K     |████████████████▊               | 2.6 MB 5.1 MB/s eta 0:00:01\r\u001B[K     |████████████████▊               | 2.6 MB 5.1 MB/s eta 0:00:01\r\u001B[K     |████████████████▉               | 2.6 MB 5.1 MB/s eta 0:00:01\r\u001B[K     |████████████████▉               | 2.7 MB 5.1 MB/s eta 0:00:01\r\u001B[K     |█████████████████               | 2.7 MB 5.1 MB/s eta 0:00:01\r\u001B[K     |█████████████████               | 2.7 MB 5.1 MB/s eta 0:00:01\r\u001B[K     |█████████████████               | 2.7 MB 5.1 MB/s eta 0:00:01\r\u001B[K     |█████████████████▏              | 2.7 MB 5.1 MB/s eta 0:00:01\r\u001B[K     |█████████████████▏              | 2.7 MB 5.1 MB/s eta 0:00:01\r\u001B[K     |█████████████████▎              | 2.7 MB 5.1 MB/s eta 0:00:01\r\u001B[K     |█████████████████▍              | 2.7 MB 5.1 MB/s eta 0:00:01\r\u001B[K     |█████████████████▍              | 2.7 MB 5.1 MB/s eta 0:00:01\r\u001B[K     |█████████████████▌              | 2.7 MB 5.1 MB/s eta 0:00:01\r\u001B[K     |█████████████████▌              | 2.8 MB 5.1 MB/s eta 0:00:01\r\u001B[K     |█████████████████▋              | 2.8 MB 5.1 MB/s eta 0:00:01\r\u001B[K     |█████████████████▋              | 2.8 MB 5.1 MB/s eta 0:00:01\r\u001B[K     |█████████████████▊              | 2.8 MB 5.1 MB/s eta 0:00:01\r\u001B[K     |█████████████████▉              | 2.8 MB 5.1 MB/s eta 0:00:01\r\u001B[K     |█████████████████▉              | 2.8 MB 5.1 MB/s eta 0:00:01\r\u001B[K     |██████████████████              | 2.8 MB 5.1 MB/s eta 0:00:01\r\u001B[K     |██████████████████              | 2.8 MB 5.1 MB/s eta 0:00:01\r\u001B[K     |██████████████████              | 2.8 MB 5.1 MB/s eta 0:00:01\r\u001B[K     |██████████████████▏             | 2.8 MB 5.1 MB/s eta 0:00:01\r\u001B[K     |██████████████████▏             | 2.9 MB 5.1 MB/s eta 0:00:01\r\u001B[K     |██████████████████▎             | 2.9 MB 5.1 MB/s eta 0:00:01\r\u001B[K     |██████████████████▎             | 2.9 MB 5.1 MB/s eta 0:00:01\r\u001B[K     |██████████████████▍             | 2.9 MB 5.1 MB/s eta 0:00:01\r\u001B[K     |██████████████████▍             | 2.9 MB 5.1 MB/s eta 0:00:01\r\u001B[K     |██████████████████▌             | 2.9 MB 5.1 MB/s eta 0:00:01\r\u001B[K     |██████████████████▋             | 2.9 MB 5.1 MB/s eta 0:00:01\r\u001B[K     |██████████████████▋             | 2.9 MB 5.1 MB/s eta 0:00:01\r\u001B[K     |██████████████████▊             | 2.9 MB 5.1 MB/s eta 0:00:01\r\u001B[K     |██████████████████▊             | 2.9 MB 5.1 MB/s eta 0:00:01\r\u001B[K     |██████████████████▉             | 3.0 MB 5.1 MB/s eta 0:00:01\r\u001B[K     |███████████████████             | 3.0 MB 5.1 MB/s eta 0:00:01\r\u001B[K     |███████████████████             | 3.0 MB 5.1 MB/s eta 0:00:01\r\u001B[K     |███████████████████             | 3.0 MB 5.1 MB/s eta 0:00:01\r\u001B[K     |███████████████████             | 3.0 MB 5.1 MB/s eta 0:00:01\r\u001B[K     |███████████████████▏            | 3.0 MB 5.1 MB/s eta 0:00:01\r\u001B[K     |███████████████████▎            | 3.0 MB 5.1 MB/s eta 0:00:01\r\u001B[K     |███████████████████▎            | 3.0 MB 5.1 MB/s eta 0:00:01\r\u001B[K     |███████████████████▍            | 3.0 MB 5.1 MB/s eta 0:00:01\r\u001B[K     |███████████████████▍            | 3.1 MB 5.1 MB/s eta 0:00:01\r\u001B[K     |███████████████████▌            | 3.1 MB 5.1 MB/s eta 0:00:01\r\u001B[K     |███████████████████▌            | 3.1 MB 5.1 MB/s eta 0:00:01\r\u001B[K     |███████████████████▋            | 3.1 MB 5.1 MB/s eta 0:00:01\r\u001B[K     |███████████████████▊            | 3.1 MB 5.1 MB/s eta 0:00:01\r\u001B[K     |███████████████████▊            | 3.1 MB 5.1 MB/s eta 0:00:01\r\u001B[K     |███████████████████▉            | 3.1 MB 5.1 MB/s eta 0:00:01\r\u001B[K     |███████████████████▉            | 3.1 MB 5.1 MB/s eta 0:00:01\r\u001B[K     |████████████████████            | 3.1 MB 5.1 MB/s eta 0:00:01\r\u001B[K     |████████████████████            | 3.1 MB 5.1 MB/s eta 0:00:01\r\u001B[K     |████████████████████            | 3.2 MB 5.1 MB/s eta 0:00:01\r\u001B[K     |████████████████████▏           | 3.2 MB 5.1 MB/s eta 0:00:01\r\u001B[K     |████████████████████▏           | 3.2 MB 5.1 MB/s eta 0:00:01\r\u001B[K     |████████████████████▎           | 3.2 MB 5.1 MB/s eta 0:00:01\r\u001B[K     |████████████████████▎           | 3.2 MB 5.1 MB/s eta 0:00:01\r\u001B[K     |████████████████████▍           | 3.2 MB 5.1 MB/s eta 0:00:01\r\u001B[K     |████████████████████▌           | 3.2 MB 5.1 MB/s eta 0:00:01\r\u001B[K     |████████████████████▌           | 3.2 MB 5.1 MB/s eta 0:00:01\r\u001B[K     |████████████████████▋           | 3.2 MB 5.1 MB/s eta 0:00:01\r\u001B[K     |████████████████████▋           | 3.2 MB 5.1 MB/s eta 0:00:01\r\u001B[K     |████████████████████▊           | 3.3 MB 5.1 MB/s eta 0:00:01\r\u001B[K     |████████████████████▉           | 3.3 MB 5.1 MB/s eta 0:00:01\r\u001B[K     |████████████████████▉           | 3.3 MB 5.1 MB/s eta 0:00:01\r\u001B[K     |█████████████████████           | 3.3 MB 5.1 MB/s eta 0:00:01\r\u001B[K     |█████████████████████           | 3.3 MB 5.1 MB/s eta 0:00:01\r\u001B[K     |█████████████████████           | 3.3 MB 5.1 MB/s eta 0:00:01\r\u001B[K     |█████████████████████▏          | 3.3 MB 5.1 MB/s eta 0:00:01\r\u001B[K     |█████████████████████▏          | 3.3 MB 5.1 MB/s eta 0:00:01\r\u001B[K     |█████████████████████▎          | 3.3 MB 5.1 MB/s eta 0:00:01\r\u001B[K     |█████████████████████▎          | 3.3 MB 5.1 MB/s eta 0:00:01\r\u001B[K     |█████████████████████▍          | 3.4 MB 5.1 MB/s eta 0:00:01\r\u001B[K     |█████████████████████▍          | 3.4 MB 5.1 MB/s eta 0:00:01\r\u001B[K     |█████████████████████▌          | 3.4 MB 5.1 MB/s eta 0:00:01\r\u001B[K     |█████████████████████▋          | 3.4 MB 5.1 MB/s eta 0:00:01\r\u001B[K     |█████████████████████▋          | 3.4 MB 5.1 MB/s eta 0:00:01\r\u001B[K     |█████████████████████▊          | 3.4 MB 5.1 MB/s eta 0:00:01\r\u001B[K     |█████████████████████▊          | 3.4 MB 5.1 MB/s eta 0:00:01\r\u001B[K     |█████████████████████▉          | 3.4 MB 5.1 MB/s eta 0:00:01\r\u001B[K     |██████████████████████          | 3.4 MB 5.1 MB/s eta 0:00:01\r\u001B[K     |██████████████████████          | 3.5 MB 5.1 MB/s eta 0:00:01\r\u001B[K     |██████████████████████          | 3.5 MB 5.1 MB/s eta 0:00:01\r\u001B[K     |██████████████████████          | 3.5 MB 5.1 MB/s eta 0:00:01\r\u001B[K     |██████████████████████▏         | 3.5 MB 5.1 MB/s eta 0:00:01\r\u001B[K     |██████████████████████▏         | 3.5 MB 5.1 MB/s eta 0:00:01\r\u001B[K     |██████████████████████▎         | 3.5 MB 5.1 MB/s eta 0:00:01\r\u001B[K     |██████████████████████▍         | 3.5 MB 5.1 MB/s eta 0:00:01\r\u001B[K     |██████████████████████▍         | 3.5 MB 5.1 MB/s eta 0:00:01\r\u001B[K     |██████████████████████▌         | 3.5 MB 5.1 MB/s eta 0:00:01\r\u001B[K     |██████████████████████▌         | 3.5 MB 5.1 MB/s eta 0:00:01\r\u001B[K     |██████████████████████▋         | 3.6 MB 5.1 MB/s eta 0:00:01\r\u001B[K     |██████████████████████▊         | 3.6 MB 5.1 MB/s eta 0:00:01\r\u001B[K     |██████████████████████▊         | 3.6 MB 5.1 MB/s eta 0:00:01\r\u001B[K     |██████████████████████▉         | 3.6 MB 5.1 MB/s eta 0:00:01\r\u001B[K     |██████████████████████▉         | 3.6 MB 5.1 MB/s eta 0:00:01\r\u001B[K     |███████████████████████         | 3.6 MB 5.1 MB/s eta 0:00:01\r\u001B[K     |███████████████████████         | 3.6 MB 5.1 MB/s eta 0:00:01\r\u001B[K     |███████████████████████         | 3.6 MB 5.1 MB/s eta 0:00:01\r\u001B[K     |███████████████████████▏        | 3.6 MB 5.1 MB/s eta 0:00:01\r\u001B[K     |███████████████████████▏        | 3.6 MB 5.1 MB/s eta 0:00:01\r\u001B[K     |███████████████████████▎        | 3.7 MB 5.1 MB/s eta 0:00:01\r\u001B[K     |███████████████████████▎        | 3.7 MB 5.1 MB/s eta 0:00:01\r\u001B[K     |███████████████████████▍        | 3.7 MB 5.1 MB/s eta 0:00:01\r\u001B[K     |███████████████████████▌        | 3.7 MB 5.1 MB/s eta 0:00:01\r\u001B[K     |███████████████████████▌        | 3.7 MB 5.1 MB/s eta 0:00:01\r\u001B[K     |███████████████████████▋        | 3.7 MB 5.1 MB/s eta 0:00:01\r\u001B[K     |███████████████████████▋        | 3.7 MB 5.1 MB/s eta 0:00:01\r\u001B[K     |███████████████████████▊        | 3.7 MB 5.1 MB/s eta 0:00:01\r\u001B[K     |███████████████████████▉        | 3.7 MB 5.1 MB/s eta 0:00:01\r\u001B[K     |███████████████████████▉        | 3.7 MB 5.1 MB/s eta 0:00:01\r\u001B[K     |████████████████████████        | 3.8 MB 5.1 MB/s eta 0:00:01\r\u001B[K     |████████████████████████        | 3.8 MB 5.1 MB/s eta 0:00:01\r\u001B[K     |████████████████████████        | 3.8 MB 5.1 MB/s eta 0:00:01\r\u001B[K     |████████████████████████▏       | 3.8 MB 5.1 MB/s eta 0:00:01\r\u001B[K     |████████████████████████▏       | 3.8 MB 5.1 MB/s eta 0:00:01\r\u001B[K     |████████████████████████▎       | 3.8 MB 5.1 MB/s eta 0:00:01\r\u001B[K     |████████████████████████▎       | 3.8 MB 5.1 MB/s eta 0:00:01\r\u001B[K     |████████████████████████▍       | 3.8 MB 5.1 MB/s eta 0:00:01\r\u001B[K     |████████████████████████▍       | 3.8 MB 5.1 MB/s eta 0:00:01\r\u001B[K     |████████████████████████▌       | 3.9 MB 5.1 MB/s eta 0:00:01\r\u001B[K     |████████████████████████▋       | 3.9 MB 5.1 MB/s eta 0:00:01\r\u001B[K     |████████████████████████▋       | 3.9 MB 5.1 MB/s eta 0:00:01\r\u001B[K     |████████████████████████▊       | 3.9 MB 5.1 MB/s eta 0:00:01\r\u001B[K     |████████████████████████▊       | 3.9 MB 5.1 MB/s eta 0:00:01\r\u001B[K     |████████████████████████▉       | 3.9 MB 5.1 MB/s eta 0:00:01\r\u001B[K     |█████████████████████████       | 3.9 MB 5.1 MB/s eta 0:00:01\r\u001B[K     |█████████████████████████       | 3.9 MB 5.1 MB/s eta 0:00:01\r\u001B[K     |█████████████████████████       | 3.9 MB 5.1 MB/s eta 0:00:01\r\u001B[K     |█████████████████████████       | 3.9 MB 5.1 MB/s eta 0:00:01\r\u001B[K     |█████████████████████████▏      | 4.0 MB 5.1 MB/s eta 0:00:01\r\u001B[K     |█████████████████████████▏      | 4.0 MB 5.1 MB/s eta 0:00:01\r\u001B[K     |█████████████████████████▎      | 4.0 MB 5.1 MB/s eta 0:00:01\r\u001B[K     |█████████████████████████▍      | 4.0 MB 5.1 MB/s eta 0:00:01\r\u001B[K     |█████████████████████████▍      | 4.0 MB 5.1 MB/s eta 0:00:01\r\u001B[K     |█████████████████████████▌      | 4.0 MB 5.1 MB/s eta 0:00:01\r\u001B[K     |█████████████████████████▌      | 4.0 MB 5.1 MB/s eta 0:00:01\r\u001B[K     |█████████████████████████▋      | 4.0 MB 5.1 MB/s eta 0:00:01\r\u001B[K     |█████████████████████████▊      | 4.0 MB 5.1 MB/s eta 0:00:01\r\u001B[K     |█████████████████████████▊      | 4.0 MB 5.1 MB/s eta 0:00:01\r\u001B[K     |█████████████████████████▉      | 4.1 MB 5.1 MB/s eta 0:00:01\r\u001B[K     |█████████████████████████▉      | 4.1 MB 5.1 MB/s eta 0:00:01\r\u001B[K     |██████████████████████████      | 4.1 MB 5.1 MB/s eta 0:00:01\r\u001B[K     |██████████████████████████      | 4.1 MB 5.1 MB/s eta 0:00:01\r\u001B[K     |██████████████████████████      | 4.1 MB 5.1 MB/s eta 0:00:01\r\u001B[K     |██████████████████████████▏     | 4.1 MB 5.1 MB/s eta 0:00:01\r\u001B[K     |██████████████████████████▏     | 4.1 MB 5.1 MB/s eta 0:00:01\r\u001B[K     |██████████████████████████▎     | 4.1 MB 5.1 MB/s eta 0:00:01\r\u001B[K     |██████████████████████████▎     | 4.1 MB 5.1 MB/s eta 0:00:01\r\u001B[K     |██████████████████████████▍     | 4.1 MB 5.1 MB/s eta 0:00:01\r\u001B[K     |██████████████████████████▌     | 4.2 MB 5.1 MB/s eta 0:00:01\r\u001B[K     |██████████████████████████▌     | 4.2 MB 5.1 MB/s eta 0:00:01\r\u001B[K     |██████████████████████████▋     | 4.2 MB 5.1 MB/s eta 0:00:01\r\u001B[K     |██████████████████████████▋     | 4.2 MB 5.1 MB/s eta 0:00:01\r\u001B[K     |██████████████████████████▊     | 4.2 MB 5.1 MB/s eta 0:00:01\r\u001B[K     |██████████████████████████▉     | 4.2 MB 5.1 MB/s eta 0:00:01\r\u001B[K     |██████████████████████████▉     | 4.2 MB 5.1 MB/s eta 0:00:01\r\u001B[K     |███████████████████████████     | 4.2 MB 5.1 MB/s eta 0:00:01\r\u001B[K     |███████████████████████████     | 4.2 MB 5.1 MB/s eta 0:00:01\r\u001B[K     |███████████████████████████     | 4.2 MB 5.1 MB/s eta 0:00:01\r\u001B[K     |███████████████████████████     | 4.3 MB 5.1 MB/s eta 0:00:01\r\u001B[K     |███████████████████████████▏    | 4.3 MB 5.1 MB/s eta 0:00:01\r\u001B[K     |███████████████████████████▎    | 4.3 MB 5.1 MB/s eta 0:00:01\r\u001B[K     |███████████████████████████▎    | 4.3 MB 5.1 MB/s eta 0:00:01\r\u001B[K     |███████████████████████████▍    | 4.3 MB 5.1 MB/s eta 0:00:01\r\u001B[K     |███████████████████████████▍    | 4.3 MB 5.1 MB/s eta 0:00:01\r\u001B[K     |███████████████████████████▌    | 4.3 MB 5.1 MB/s eta 0:00:01\r\u001B[K     |███████████████████████████▋    | 4.3 MB 5.1 MB/s eta 0:00:01\r\u001B[K     |███████████████████████████▋    | 4.3 MB 5.1 MB/s eta 0:00:01\r\u001B[K     |███████████████████████████▊    | 4.4 MB 5.1 MB/s eta 0:00:01\r\u001B[K     |███████████████████████████▊    | 4.4 MB 5.1 MB/s eta 0:00:01\r\u001B[K     |███████████████████████████▉    | 4.4 MB 5.1 MB/s eta 0:00:01\r\u001B[K     |████████████████████████████    | 4.4 MB 5.1 MB/s eta 0:00:01\r\u001B[K     |████████████████████████████    | 4.4 MB 5.1 MB/s eta 0:00:01\r\u001B[K     |████████████████████████████    | 4.4 MB 5.1 MB/s eta 0:00:01\r\u001B[K     |████████████████████████████    | 4.4 MB 5.1 MB/s eta 0:00:01\r\u001B[K     |████████████████████████████▏   | 4.4 MB 5.1 MB/s eta 0:00:01\r\u001B[K     |████████████████████████████▏   | 4.4 MB 5.1 MB/s eta 0:00:01\r\u001B[K     |████████████████████████████▎   | 4.4 MB 5.1 MB/s eta 0:00:01\r\u001B[K     |████████████████████████████▍   | 4.5 MB 5.1 MB/s eta 0:00:01\r\u001B[K     |████████████████████████████▍   | 4.5 MB 5.1 MB/s eta 0:00:01\r\u001B[K     |████████████████████████████▌   | 4.5 MB 5.1 MB/s eta 0:00:01\r\u001B[K     |████████████████████████████▌   | 4.5 MB 5.1 MB/s eta 0:00:01\r\u001B[K     |████████████████████████████▋   | 4.5 MB 5.1 MB/s eta 0:00:01\r\u001B[K     |████████████████████████████▊   | 4.5 MB 5.1 MB/s eta 0:00:01\r\u001B[K     |████████████████████████████▊   | 4.5 MB 5.1 MB/s eta 0:00:01\r\u001B[K     |████████████████████████████▉   | 4.5 MB 5.1 MB/s eta 0:00:01\r\u001B[K     |████████████████████████████▉   | 4.5 MB 5.1 MB/s eta 0:00:01\r\u001B[K     |█████████████████████████████   | 4.5 MB 5.1 MB/s eta 0:00:01\r\u001B[K     |█████████████████████████████   | 4.6 MB 5.1 MB/s eta 0:00:01\r\u001B[K     |█████████████████████████████   | 4.6 MB 5.1 MB/s eta 0:00:01\r\u001B[K     |█████████████████████████████▏  | 4.6 MB 5.1 MB/s eta 0:00:01\r\u001B[K     |█████████████████████████████▏  | 4.6 MB 5.1 MB/s eta 0:00:01\r\u001B[K     |█████████████████████████████▎  | 4.6 MB 5.1 MB/s eta 0:00:01\r\u001B[K     |█████████████████████████████▎  | 4.6 MB 5.1 MB/s eta 0:00:01\r\u001B[K     |█████████████████████████████▍  | 4.6 MB 5.1 MB/s eta 0:00:01\r\u001B[K     |█████████████████████████████▌  | 4.6 MB 5.1 MB/s eta 0:00:01\r\u001B[K     |█████████████████████████████▌  | 4.6 MB 5.1 MB/s eta 0:00:01\r\u001B[K     |█████████████████████████████▋  | 4.6 MB 5.1 MB/s eta 0:00:01\r\u001B[K     |█████████████████████████████▋  | 4.7 MB 5.1 MB/s eta 0:00:01\r\u001B[K     |█████████████████████████████▊  | 4.7 MB 5.1 MB/s eta 0:00:01\r\u001B[K     |█████████████████████████████▉  | 4.7 MB 5.1 MB/s eta 0:00:01\r\u001B[K     |█████████████████████████████▉  | 4.7 MB 5.1 MB/s eta 0:00:01\r\u001B[K     |██████████████████████████████  | 4.7 MB 5.1 MB/s eta 0:00:01\r\u001B[K     |██████████████████████████████  | 4.7 MB 5.1 MB/s eta 0:00:01\r\u001B[K     |██████████████████████████████  | 4.7 MB 5.1 MB/s eta 0:00:01\r\u001B[K     |██████████████████████████████  | 4.7 MB 5.1 MB/s eta 0:00:01\r\u001B[K     |██████████████████████████████▏ | 4.7 MB 5.1 MB/s eta 0:00:01\r\u001B[K     |██████████████████████████████▎ | 4.8 MB 5.1 MB/s eta 0:00:01\r\u001B[K     |██████████████████████████████▎ | 4.8 MB 5.1 MB/s eta 0:00:01\r\u001B[K     |██████████████████████████████▍ | 4.8 MB 5.1 MB/s eta 0:00:01\r\u001B[K     |██████████████████████████████▍ | 4.8 MB 5.1 MB/s eta 0:00:01\r\u001B[K     |██████████████████████████████▌ | 4.8 MB 5.1 MB/s eta 0:00:01\r\u001B[K     |██████████████████████████████▋ | 4.8 MB 5.1 MB/s eta 0:00:01\r\u001B[K     |██████████████████████████████▋ | 4.8 MB 5.1 MB/s eta 0:00:01\r\u001B[K     |██████████████████████████████▊ | 4.8 MB 5.1 MB/s eta 0:00:01\r\u001B[K     |██████████████████████████████▊ | 4.8 MB 5.1 MB/s eta 0:00:01\r\u001B[K     |██████████████████████████████▉ | 4.8 MB 5.1 MB/s eta 0:00:01\r\u001B[K     |███████████████████████████████ | 4.9 MB 5.1 MB/s eta 0:00:01\r\u001B[K     |███████████████████████████████ | 4.9 MB 5.1 MB/s eta 0:00:01\r\u001B[K     |███████████████████████████████ | 4.9 MB 5.1 MB/s eta 0:00:01\r\u001B[K     |███████████████████████████████ | 4.9 MB 5.1 MB/s eta 0:00:01\r\u001B[K     |███████████████████████████████▏| 4.9 MB 5.1 MB/s eta 0:00:01\r\u001B[K     |███████████████████████████████▏| 4.9 MB 5.1 MB/s eta 0:00:01\r\u001B[K     |███████████████████████████████▎| 4.9 MB 5.1 MB/s eta 0:00:01\r\u001B[K     |███████████████████████████████▍| 4.9 MB 5.1 MB/s eta 0:00:01\r\u001B[K     |███████████████████████████████▍| 4.9 MB 5.1 MB/s eta 0:00:01\r\u001B[K     |███████████████████████████████▌| 4.9 MB 5.1 MB/s eta 0:00:01\r\u001B[K     |███████████████████████████████▌| 5.0 MB 5.1 MB/s eta 0:00:01\r\u001B[K     |███████████████████████████████▋| 5.0 MB 5.1 MB/s eta 0:00:01\r\u001B[K     |███████████████████████████████▊| 5.0 MB 5.1 MB/s eta 0:00:01\r\u001B[K     |███████████████████████████████▊| 5.0 MB 5.1 MB/s eta 0:00:01\r\u001B[K     |███████████████████████████████▉| 5.0 MB 5.1 MB/s eta 0:00:01\r\u001B[K     |███████████████████████████████▉| 5.0 MB 5.1 MB/s eta 0:00:01\r\u001B[K     |████████████████████████████████| 5.0 MB 5.1 MB/s eta 0:00:01\r\u001B[K     |████████████████████████████████| 5.0 MB 5.1 MB/s eta 0:00:01\r\u001B[K     |████████████████████████████████| 5.0 MB 5.1 MB/s \r\n\u001B[?25hInstalling collected packages: lxml\r\nSuccessfully installed lxml-5.2.2\r\n\u001B[33mWARNING: You are using pip version 21.2.4; however, version 24.0 is available.\r\nYou should consider upgrading via the '/local_disk0/.ephemeral_nfs/envs/pythonEnv-c5ef0481-f7b9-4325-8be7-2da0d37a746f/bin/python -m pip install --upgrade pip' command.\u001B[0m\r\n"
     ]
    }
   ],
   "source": [
    "!pip install lxml"
   ]
  },
  {
   "cell_type": "code",
   "execution_count": 0,
   "metadata": {
    "application/vnd.databricks.v1+cell": {
     "cellMetadata": {
      "byteLimit": 2048000,
      "rowLimit": 10000
     },
     "inputWidgets": {},
     "nuid": "83215d62-3fc8-4e14-b4c7-6cb7af34ace6",
     "showTitle": false,
     "title": ""
    }
   },
   "outputs": [],
   "source": [
    "lista = ps.read_html(url_universidades)"
   ]
  },
  {
   "cell_type": "code",
   "execution_count": 0,
   "metadata": {
    "application/vnd.databricks.v1+cell": {
     "cellMetadata": {
      "byteLimit": 2048000,
      "rowLimit": 10000
     },
     "inputWidgets": {},
     "nuid": "5738470b-e1f6-4043-9b5d-f5a48f73a0c1",
     "showTitle": false,
     "title": ""
    }
   },
   "outputs": [
    {
     "output_type": "stream",
     "name": "stdout",
     "output_type": "stream",
     "text": [
      "Out[28]: 5"
     ]
    }
   ],
   "source": [
    "len(lista)"
   ]
  },
  {
   "cell_type": "code",
   "execution_count": 0,
   "metadata": {
    "application/vnd.databricks.v1+cell": {
     "cellMetadata": {
      "byteLimit": 2048000,
      "rowLimit": 10000
     },
     "inputWidgets": {},
     "nuid": "320d2ad6-93e2-4744-9dd9-de92b0896bbf",
     "showTitle": false,
     "title": ""
    }
   },
   "outputs": [
    {
     "output_type": "display_data",
     "data": {
      "text/html": [
       "<div>\n",
       "<style scoped>\n",
       "    .dataframe tbody tr th:only-of-type {\n",
       "        vertical-align: middle;\n",
       "    }\n",
       "\n",
       "    .dataframe tbody tr th {\n",
       "        vertical-align: top;\n",
       "    }\n",
       "\n",
       "    .dataframe thead th {\n",
       "        text-align: right;\n",
       "    }\n",
       "</style>\n",
       "<table border=\"1\" class=\"dataframe\">\n",
       "  <thead>\n",
       "    <tr style=\"text-align: right;\">\n",
       "      <th></th>\n",
       "      <th>Classificação Nacional</th>\n",
       "      <th>Classificação Mundial</th>\n",
       "      <th>Universidade</th>\n",
       "      <th>Logo</th>\n",
       "      <th>sigla</th>\n",
       "      <th>tipo</th>\n",
       "      <th>web</th>\n",
       "      <th>Localização</th>\n",
       "    </tr>\n",
       "  </thead>\n",
       "  <tbody>\n",
       "    <tr>\n",
       "      <th>0</th>\n",
       "      <td>1</td>\n",
       "      <td>72</td>\n",
       "      <td>Universidade de São Paulo</td>\n",
       "      <td>NaN</td>\n",
       "      <td>USP</td>\n",
       "      <td>Pública Estadual</td>\n",
       "      <td>www5.usp.br/</td>\n",
       "      <td>São Paulo</td>\n",
       "    </tr>\n",
       "    <tr>\n",
       "      <th>1</th>\n",
       "      <td>2</td>\n",
       "      <td>236</td>\n",
       "      <td>Universidade Estadual de Campinas</td>\n",
       "      <td>NaN</td>\n",
       "      <td>UNICAMP</td>\n",
       "      <td>Pública Estadual</td>\n",
       "      <td>www.unicamp.br/</td>\n",
       "      <td>São Paulo</td>\n",
       "    </tr>\n",
       "    <tr>\n",
       "      <th>2</th>\n",
       "      <td>3</td>\n",
       "      <td>278</td>\n",
       "      <td>Universidade Federal do Rio de Janeiro</td>\n",
       "      <td>NaN</td>\n",
       "      <td>UFRJ</td>\n",
       "      <td>Pública federal</td>\n",
       "      <td>ufrj.br/</td>\n",
       "      <td>Rio de Janeiro</td>\n",
       "    </tr>\n",
       "    <tr>\n",
       "      <th>3</th>\n",
       "      <td>4</td>\n",
       "      <td>298</td>\n",
       "      <td>Universidade Federal de Minas Gerais</td>\n",
       "      <td>NaN</td>\n",
       "      <td>UFMG</td>\n",
       "      <td>Pública federal</td>\n",
       "      <td>ucb.edu.bo</td>\n",
       "      <td>Minas Gerais</td>\n",
       "    </tr>\n",
       "    <tr>\n",
       "      <th>4</th>\n",
       "      <td>5</td>\n",
       "      <td>345</td>\n",
       "      <td>Universidade Estadual Paulista</td>\n",
       "      <td>NaN</td>\n",
       "      <td>UNESP</td>\n",
       "      <td>Pública Estadual</td>\n",
       "      <td>www.unesp.br</td>\n",
       "      <td>São Paulo</td>\n",
       "    </tr>\n",
       "    <tr>\n",
       "      <th>5</th>\n",
       "      <td>6</td>\n",
       "      <td>427</td>\n",
       "      <td>Universidade Federal de Santa Catarina</td>\n",
       "      <td>NaN</td>\n",
       "      <td>UFSC</td>\n",
       "      <td>Pública federal</td>\n",
       "      <td>ufsc.br/</td>\n",
       "      <td>Santa Catarina</td>\n",
       "    </tr>\n",
       "    <tr>\n",
       "      <th>6</th>\n",
       "      <td>7</td>\n",
       "      <td>592</td>\n",
       "      <td>Universidade de Brasília</td>\n",
       "      <td>NaN</td>\n",
       "      <td>UNB</td>\n",
       "      <td>Pública Estadual</td>\n",
       "      <td>www.unb.br/</td>\n",
       "      <td>Distrito Federal</td>\n",
       "    </tr>\n",
       "    <tr>\n",
       "      <th>7</th>\n",
       "      <td>8</td>\n",
       "      <td>593</td>\n",
       "      <td>Universidade Federal do Paraná</td>\n",
       "      <td>NaN</td>\n",
       "      <td>UFPR</td>\n",
       "      <td>Pública federal</td>\n",
       "      <td>www.ufpr.br/</td>\n",
       "      <td>Paraná</td>\n",
       "    </tr>\n",
       "    <tr>\n",
       "      <th>8</th>\n",
       "      <td>9</td>\n",
       "      <td>596</td>\n",
       "      <td>Universidade Federal Fluminense</td>\n",
       "      <td>NaN</td>\n",
       "      <td>UFF</td>\n",
       "      <td>Pública federal</td>\n",
       "      <td>www.uff.br/</td>\n",
       "      <td>Rio de Janeiro</td>\n",
       "    </tr>\n",
       "    <tr>\n",
       "      <th>9</th>\n",
       "      <td>10</td>\n",
       "      <td>667</td>\n",
       "      <td>Universidade Federal de São Carlos</td>\n",
       "      <td>NaN</td>\n",
       "      <td>UFSCAR</td>\n",
       "      <td>Pública federal</td>\n",
       "      <td>www.ufscar.br/</td>\n",
       "      <td>São Paulo</td>\n",
       "    </tr>\n",
       "  </tbody>\n",
       "</table>\n",
       "</div>"
      ]
     },
     "metadata": {
      "application/vnd.databricks.v1+output": {
       "addedWidgets": {},
       "arguments": {},
       "data": "<div>\n<style scoped>\n    .dataframe tbody tr th:only-of-type {\n        vertical-align: middle;\n    }\n\n    .dataframe tbody tr th {\n        vertical-align: top;\n    }\n\n    .dataframe thead th {\n        text-align: right;\n    }\n</style>\n<table border=\"1\" class=\"dataframe\">\n  <thead>\n    <tr style=\"text-align: right;\">\n      <th></th>\n      <th>Classificação Nacional</th>\n      <th>Classificação Mundial</th>\n      <th>Universidade</th>\n      <th>Logo</th>\n      <th>sigla</th>\n      <th>tipo</th>\n      <th>web</th>\n      <th>Localização</th>\n    </tr>\n  </thead>\n  <tbody>\n    <tr>\n      <th>0</th>\n      <td>1</td>\n      <td>72</td>\n      <td>Universidade de São Paulo</td>\n      <td>NaN</td>\n      <td>USP</td>\n      <td>Pública Estadual</td>\n      <td>www5.usp.br/</td>\n      <td>São Paulo</td>\n    </tr>\n    <tr>\n      <th>1</th>\n      <td>2</td>\n      <td>236</td>\n      <td>Universidade Estadual de Campinas</td>\n      <td>NaN</td>\n      <td>UNICAMP</td>\n      <td>Pública Estadual</td>\n      <td>www.unicamp.br/</td>\n      <td>São Paulo</td>\n    </tr>\n    <tr>\n      <th>2</th>\n      <td>3</td>\n      <td>278</td>\n      <td>Universidade Federal do Rio de Janeiro</td>\n      <td>NaN</td>\n      <td>UFRJ</td>\n      <td>Pública federal</td>\n      <td>ufrj.br/</td>\n      <td>Rio de Janeiro</td>\n    </tr>\n    <tr>\n      <th>3</th>\n      <td>4</td>\n      <td>298</td>\n      <td>Universidade Federal de Minas Gerais</td>\n      <td>NaN</td>\n      <td>UFMG</td>\n      <td>Pública federal</td>\n      <td>ucb.edu.bo</td>\n      <td>Minas Gerais</td>\n    </tr>\n    <tr>\n      <th>4</th>\n      <td>5</td>\n      <td>345</td>\n      <td>Universidade Estadual Paulista</td>\n      <td>NaN</td>\n      <td>UNESP</td>\n      <td>Pública Estadual</td>\n      <td>www.unesp.br</td>\n      <td>São Paulo</td>\n    </tr>\n    <tr>\n      <th>5</th>\n      <td>6</td>\n      <td>427</td>\n      <td>Universidade Federal de Santa Catarina</td>\n      <td>NaN</td>\n      <td>UFSC</td>\n      <td>Pública federal</td>\n      <td>ufsc.br/</td>\n      <td>Santa Catarina</td>\n    </tr>\n    <tr>\n      <th>6</th>\n      <td>7</td>\n      <td>592</td>\n      <td>Universidade de Brasília</td>\n      <td>NaN</td>\n      <td>UNB</td>\n      <td>Pública Estadual</td>\n      <td>www.unb.br/</td>\n      <td>Distrito Federal</td>\n    </tr>\n    <tr>\n      <th>7</th>\n      <td>8</td>\n      <td>593</td>\n      <td>Universidade Federal do Paraná</td>\n      <td>NaN</td>\n      <td>UFPR</td>\n      <td>Pública federal</td>\n      <td>www.ufpr.br/</td>\n      <td>Paraná</td>\n    </tr>\n    <tr>\n      <th>8</th>\n      <td>9</td>\n      <td>596</td>\n      <td>Universidade Federal Fluminense</td>\n      <td>NaN</td>\n      <td>UFF</td>\n      <td>Pública federal</td>\n      <td>www.uff.br/</td>\n      <td>Rio de Janeiro</td>\n    </tr>\n    <tr>\n      <th>9</th>\n      <td>10</td>\n      <td>667</td>\n      <td>Universidade Federal de São Carlos</td>\n      <td>NaN</td>\n      <td>UFSCAR</td>\n      <td>Pública federal</td>\n      <td>www.ufscar.br/</td>\n      <td>São Paulo</td>\n    </tr>\n  </tbody>\n</table>\n</div>",
       "datasetInfos": [],
       "metadata": {},
       "removedWidgets": [],
       "textData": null,
       "type": "htmlSandbox"
      }
     },
     "output_type": "display_data"
    }
   ],
   "source": [
    "lista[0]"
   ]
  },
  {
   "cell_type": "code",
   "execution_count": 0,
   "metadata": {
    "application/vnd.databricks.v1+cell": {
     "cellMetadata": {
      "byteLimit": 2048000,
      "rowLimit": 10000
     },
     "inputWidgets": {},
     "nuid": "361d338b-178d-4679-bc1c-d47cf74ecaa1",
     "showTitle": false,
     "title": ""
    }
   },
   "outputs": [
    {
     "output_type": "display_data",
     "data": {
      "text/html": [
       "<div>\n",
       "<style scoped>\n",
       "    .dataframe tbody tr th:only-of-type {\n",
       "        vertical-align: middle;\n",
       "    }\n",
       "\n",
       "    .dataframe tbody tr th {\n",
       "        vertical-align: top;\n",
       "    }\n",
       "\n",
       "    .dataframe thead th {\n",
       "        text-align: right;\n",
       "    }\n",
       "</style>\n",
       "<table border=\"1\" class=\"dataframe\">\n",
       "  <thead>\n",
       "    <tr style=\"text-align: right;\">\n",
       "      <th></th>\n",
       "      <th>Classificação Nacional</th>\n",
       "      <th>Classificação Mundial</th>\n",
       "      <th>Universidade</th>\n",
       "      <th>Logo</th>\n",
       "      <th>sigla</th>\n",
       "      <th>tipo</th>\n",
       "      <th>web</th>\n",
       "      <th>Localização</th>\n",
       "    </tr>\n",
       "  </thead>\n",
       "  <tbody>\n",
       "    <tr>\n",
       "      <th>0</th>\n",
       "      <td>1</td>\n",
       "      <td>72</td>\n",
       "      <td>Universidade de São Paulo</td>\n",
       "      <td>NaN</td>\n",
       "      <td>USP</td>\n",
       "      <td>Pública Estadual</td>\n",
       "      <td>www5.usp.br/</td>\n",
       "      <td>São Paulo</td>\n",
       "    </tr>\n",
       "    <tr>\n",
       "      <th>1</th>\n",
       "      <td>2</td>\n",
       "      <td>236</td>\n",
       "      <td>Universidade Estadual de Campinas</td>\n",
       "      <td>NaN</td>\n",
       "      <td>UNICAMP</td>\n",
       "      <td>Pública Estadual</td>\n",
       "      <td>www.unicamp.br/</td>\n",
       "      <td>São Paulo</td>\n",
       "    </tr>\n",
       "    <tr>\n",
       "      <th>2</th>\n",
       "      <td>3</td>\n",
       "      <td>278</td>\n",
       "      <td>Universidade Federal do Rio de Janeiro</td>\n",
       "      <td>NaN</td>\n",
       "      <td>UFRJ</td>\n",
       "      <td>Pública federal</td>\n",
       "      <td>ufrj.br/</td>\n",
       "      <td>Rio de Janeiro</td>\n",
       "    </tr>\n",
       "    <tr>\n",
       "      <th>3</th>\n",
       "      <td>4</td>\n",
       "      <td>298</td>\n",
       "      <td>Universidade Federal de Minas Gerais</td>\n",
       "      <td>NaN</td>\n",
       "      <td>UFMG</td>\n",
       "      <td>Pública federal</td>\n",
       "      <td>ucb.edu.bo</td>\n",
       "      <td>Minas Gerais</td>\n",
       "    </tr>\n",
       "    <tr>\n",
       "      <th>4</th>\n",
       "      <td>5</td>\n",
       "      <td>345</td>\n",
       "      <td>Universidade Estadual Paulista</td>\n",
       "      <td>NaN</td>\n",
       "      <td>UNESP</td>\n",
       "      <td>Pública Estadual</td>\n",
       "      <td>www.unesp.br</td>\n",
       "      <td>São Paulo</td>\n",
       "    </tr>\n",
       "    <tr>\n",
       "      <th>5</th>\n",
       "      <td>6</td>\n",
       "      <td>427</td>\n",
       "      <td>Universidade Federal de Santa Catarina</td>\n",
       "      <td>NaN</td>\n",
       "      <td>UFSC</td>\n",
       "      <td>Pública federal</td>\n",
       "      <td>ufsc.br/</td>\n",
       "      <td>Santa Catarina</td>\n",
       "    </tr>\n",
       "    <tr>\n",
       "      <th>6</th>\n",
       "      <td>7</td>\n",
       "      <td>592</td>\n",
       "      <td>Universidade de Brasília</td>\n",
       "      <td>NaN</td>\n",
       "      <td>UNB</td>\n",
       "      <td>Pública Estadual</td>\n",
       "      <td>www.unb.br/</td>\n",
       "      <td>Distrito Federal</td>\n",
       "    </tr>\n",
       "    <tr>\n",
       "      <th>7</th>\n",
       "      <td>8</td>\n",
       "      <td>593</td>\n",
       "      <td>Universidade Federal do Paraná</td>\n",
       "      <td>NaN</td>\n",
       "      <td>UFPR</td>\n",
       "      <td>Pública federal</td>\n",
       "      <td>www.ufpr.br/</td>\n",
       "      <td>Paraná</td>\n",
       "    </tr>\n",
       "    <tr>\n",
       "      <th>8</th>\n",
       "      <td>9</td>\n",
       "      <td>596</td>\n",
       "      <td>Universidade Federal Fluminense</td>\n",
       "      <td>NaN</td>\n",
       "      <td>UFF</td>\n",
       "      <td>Pública federal</td>\n",
       "      <td>www.uff.br/</td>\n",
       "      <td>Rio de Janeiro</td>\n",
       "    </tr>\n",
       "    <tr>\n",
       "      <th>9</th>\n",
       "      <td>10</td>\n",
       "      <td>667</td>\n",
       "      <td>Universidade Federal de São Carlos</td>\n",
       "      <td>NaN</td>\n",
       "      <td>UFSCAR</td>\n",
       "      <td>Pública federal</td>\n",
       "      <td>www.ufscar.br/</td>\n",
       "      <td>São Paulo</td>\n",
       "    </tr>\n",
       "  </tbody>\n",
       "</table>\n",
       "</div>"
      ]
     },
     "metadata": {
      "application/vnd.databricks.v1+output": {
       "addedWidgets": {},
       "arguments": {},
       "data": "<div>\n<style scoped>\n    .dataframe tbody tr th:only-of-type {\n        vertical-align: middle;\n    }\n\n    .dataframe tbody tr th {\n        vertical-align: top;\n    }\n\n    .dataframe thead th {\n        text-align: right;\n    }\n</style>\n<table border=\"1\" class=\"dataframe\">\n  <thead>\n    <tr style=\"text-align: right;\">\n      <th></th>\n      <th>Classificação Nacional</th>\n      <th>Classificação Mundial</th>\n      <th>Universidade</th>\n      <th>Logo</th>\n      <th>sigla</th>\n      <th>tipo</th>\n      <th>web</th>\n      <th>Localização</th>\n    </tr>\n  </thead>\n  <tbody>\n    <tr>\n      <th>0</th>\n      <td>1</td>\n      <td>72</td>\n      <td>Universidade de São Paulo</td>\n      <td>NaN</td>\n      <td>USP</td>\n      <td>Pública Estadual</td>\n      <td>www5.usp.br/</td>\n      <td>São Paulo</td>\n    </tr>\n    <tr>\n      <th>1</th>\n      <td>2</td>\n      <td>236</td>\n      <td>Universidade Estadual de Campinas</td>\n      <td>NaN</td>\n      <td>UNICAMP</td>\n      <td>Pública Estadual</td>\n      <td>www.unicamp.br/</td>\n      <td>São Paulo</td>\n    </tr>\n    <tr>\n      <th>2</th>\n      <td>3</td>\n      <td>278</td>\n      <td>Universidade Federal do Rio de Janeiro</td>\n      <td>NaN</td>\n      <td>UFRJ</td>\n      <td>Pública federal</td>\n      <td>ufrj.br/</td>\n      <td>Rio de Janeiro</td>\n    </tr>\n    <tr>\n      <th>3</th>\n      <td>4</td>\n      <td>298</td>\n      <td>Universidade Federal de Minas Gerais</td>\n      <td>NaN</td>\n      <td>UFMG</td>\n      <td>Pública federal</td>\n      <td>ucb.edu.bo</td>\n      <td>Minas Gerais</td>\n    </tr>\n    <tr>\n      <th>4</th>\n      <td>5</td>\n      <td>345</td>\n      <td>Universidade Estadual Paulista</td>\n      <td>NaN</td>\n      <td>UNESP</td>\n      <td>Pública Estadual</td>\n      <td>www.unesp.br</td>\n      <td>São Paulo</td>\n    </tr>\n    <tr>\n      <th>5</th>\n      <td>6</td>\n      <td>427</td>\n      <td>Universidade Federal de Santa Catarina</td>\n      <td>NaN</td>\n      <td>UFSC</td>\n      <td>Pública federal</td>\n      <td>ufsc.br/</td>\n      <td>Santa Catarina</td>\n    </tr>\n    <tr>\n      <th>6</th>\n      <td>7</td>\n      <td>592</td>\n      <td>Universidade de Brasília</td>\n      <td>NaN</td>\n      <td>UNB</td>\n      <td>Pública Estadual</td>\n      <td>www.unb.br/</td>\n      <td>Distrito Federal</td>\n    </tr>\n    <tr>\n      <th>7</th>\n      <td>8</td>\n      <td>593</td>\n      <td>Universidade Federal do Paraná</td>\n      <td>NaN</td>\n      <td>UFPR</td>\n      <td>Pública federal</td>\n      <td>www.ufpr.br/</td>\n      <td>Paraná</td>\n    </tr>\n    <tr>\n      <th>8</th>\n      <td>9</td>\n      <td>596</td>\n      <td>Universidade Federal Fluminense</td>\n      <td>NaN</td>\n      <td>UFF</td>\n      <td>Pública federal</td>\n      <td>www.uff.br/</td>\n      <td>Rio de Janeiro</td>\n    </tr>\n    <tr>\n      <th>9</th>\n      <td>10</td>\n      <td>667</td>\n      <td>Universidade Federal de São Carlos</td>\n      <td>NaN</td>\n      <td>UFSCAR</td>\n      <td>Pública federal</td>\n      <td>www.ufscar.br/</td>\n      <td>São Paulo</td>\n    </tr>\n  </tbody>\n</table>\n</div>",
       "datasetInfos": [],
       "metadata": {},
       "removedWidgets": [],
       "textData": null,
       "type": "htmlSandbox"
      }
     },
     "output_type": "display_data"
    }
   ],
   "source": [
    "df_publicas = lista[0]\n",
    "df_publicas"
   ]
  },
  {
   "cell_type": "code",
   "execution_count": 0,
   "metadata": {
    "application/vnd.databricks.v1+cell": {
     "cellMetadata": {
      "byteLimit": 2048000,
      "rowLimit": 10000
     },
     "inputWidgets": {},
     "nuid": "7de70f1b-bcbe-44a7-8721-c4a6740e98f0",
     "showTitle": false,
     "title": ""
    }
   },
   "outputs": [],
   "source": [
    "df_publicas.sort_values(by=['Classificação Nacional'],inplace=True, ascending=False)"
   ]
  },
  {
   "cell_type": "code",
   "execution_count": 0,
   "metadata": {
    "application/vnd.databricks.v1+cell": {
     "cellMetadata": {
      "byteLimit": 2048000,
      "rowLimit": 10000
     },
     "inputWidgets": {},
     "nuid": "e6b594e2-b715-4052-b7d3-1827a2815cf2",
     "showTitle": false,
     "title": ""
    }
   },
   "outputs": [
    {
     "output_type": "display_data",
     "data": {
      "text/html": [
       "<html>\n",
       "<head><meta charset=\"utf-8\" /></head>\n",
       "<body>\n",
       "    <div>            <script src=\"https://cdnjs.cloudflare.com/ajax/libs/mathjax/2.7.5/MathJax.js?config=TeX-AMS-MML_SVG\"></script><script type=\"text/javascript\">if (window.MathJax) {MathJax.Hub.Config({SVG: {font: \"STIX-Web\"}});}</script>                <script type=\"text/javascript\">window.PlotlyConfig = {MathJaxConfig: 'local'};</script>\n",
       "        <script src=\"https://cdn.plot.ly/plotly-2.9.0.min.js\"></script>                <div id=\"af2131c0-cbbc-418c-86a3-d1ff9d3e7123\" class=\"plotly-graph-div\" style=\"height:100%; width:100%;\"></div>            <script type=\"text/javascript\">                                    window.PLOTLYENV=window.PLOTLYENV || {};                                    if (document.getElementById(\"af2131c0-cbbc-418c-86a3-d1ff9d3e7123\")) {                    Plotly.newPlot(                        \"af2131c0-cbbc-418c-86a3-d1ff9d3e7123\",                        [{\"alignmentgroup\":\"True\",\"hovertemplate\":\"sigla=%{x}<br>Classifica\\u00e7\\u00e3o Nacional=%{y}<extra></extra>\",\"legendgroup\":\"\",\"marker\":{\"color\":\"#636efa\",\"pattern\":{\"shape\":\"\"}},\"name\":\"\",\"offsetgroup\":\"\",\"orientation\":\"v\",\"showlegend\":false,\"textposition\":\"auto\",\"x\":[\"UFSCAR\",\"UFF\",\"UFPR\",\"UNB\",\"UFSC\",\"UNESP\",\"UFMG\",\"UFRJ\",\"UNICAMP\",\"USP\"],\"xaxis\":\"x\",\"y\":[10,9,8,7,6,5,4,3,2,1],\"yaxis\":\"y\",\"type\":\"bar\"}],                        {\"template\":{\"data\":{\"bar\":[{\"error_x\":{\"color\":\"#2a3f5f\"},\"error_y\":{\"color\":\"#2a3f5f\"},\"marker\":{\"line\":{\"color\":\"#E5ECF6\",\"width\":0.5},\"pattern\":{\"fillmode\":\"overlay\",\"size\":10,\"solidity\":0.2}},\"type\":\"bar\"}],\"barpolar\":[{\"marker\":{\"line\":{\"color\":\"#E5ECF6\",\"width\":0.5},\"pattern\":{\"fillmode\":\"overlay\",\"size\":10,\"solidity\":0.2}},\"type\":\"barpolar\"}],\"carpet\":[{\"aaxis\":{\"endlinecolor\":\"#2a3f5f\",\"gridcolor\":\"white\",\"linecolor\":\"white\",\"minorgridcolor\":\"white\",\"startlinecolor\":\"#2a3f5f\"},\"baxis\":{\"endlinecolor\":\"#2a3f5f\",\"gridcolor\":\"white\",\"linecolor\":\"white\",\"minorgridcolor\":\"white\",\"startlinecolor\":\"#2a3f5f\"},\"type\":\"carpet\"}],\"choropleth\":[{\"colorbar\":{\"outlinewidth\":0,\"ticks\":\"\"},\"type\":\"choropleth\"}],\"contour\":[{\"colorbar\":{\"outlinewidth\":0,\"ticks\":\"\"},\"colorscale\":[[0.0,\"#0d0887\"],[0.1111111111111111,\"#46039f\"],[0.2222222222222222,\"#7201a8\"],[0.3333333333333333,\"#9c179e\"],[0.4444444444444444,\"#bd3786\"],[0.5555555555555556,\"#d8576b\"],[0.6666666666666666,\"#ed7953\"],[0.7777777777777778,\"#fb9f3a\"],[0.8888888888888888,\"#fdca26\"],[1.0,\"#f0f921\"]],\"type\":\"contour\"}],\"contourcarpet\":[{\"colorbar\":{\"outlinewidth\":0,\"ticks\":\"\"},\"type\":\"contourcarpet\"}],\"heatmap\":[{\"colorbar\":{\"outlinewidth\":0,\"ticks\":\"\"},\"colorscale\":[[0.0,\"#0d0887\"],[0.1111111111111111,\"#46039f\"],[0.2222222222222222,\"#7201a8\"],[0.3333333333333333,\"#9c179e\"],[0.4444444444444444,\"#bd3786\"],[0.5555555555555556,\"#d8576b\"],[0.6666666666666666,\"#ed7953\"],[0.7777777777777778,\"#fb9f3a\"],[0.8888888888888888,\"#fdca26\"],[1.0,\"#f0f921\"]],\"type\":\"heatmap\"}],\"heatmapgl\":[{\"colorbar\":{\"outlinewidth\":0,\"ticks\":\"\"},\"colorscale\":[[0.0,\"#0d0887\"],[0.1111111111111111,\"#46039f\"],[0.2222222222222222,\"#7201a8\"],[0.3333333333333333,\"#9c179e\"],[0.4444444444444444,\"#bd3786\"],[0.5555555555555556,\"#d8576b\"],[0.6666666666666666,\"#ed7953\"],[0.7777777777777778,\"#fb9f3a\"],[0.8888888888888888,\"#fdca26\"],[1.0,\"#f0f921\"]],\"type\":\"heatmapgl\"}],\"histogram\":[{\"marker\":{\"pattern\":{\"fillmode\":\"overlay\",\"size\":10,\"solidity\":0.2}},\"type\":\"histogram\"}],\"histogram2d\":[{\"colorbar\":{\"outlinewidth\":0,\"ticks\":\"\"},\"colorscale\":[[0.0,\"#0d0887\"],[0.1111111111111111,\"#46039f\"],[0.2222222222222222,\"#7201a8\"],[0.3333333333333333,\"#9c179e\"],[0.4444444444444444,\"#bd3786\"],[0.5555555555555556,\"#d8576b\"],[0.6666666666666666,\"#ed7953\"],[0.7777777777777778,\"#fb9f3a\"],[0.8888888888888888,\"#fdca26\"],[1.0,\"#f0f921\"]],\"type\":\"histogram2d\"}],\"histogram2dcontour\":[{\"colorbar\":{\"outlinewidth\":0,\"ticks\":\"\"},\"colorscale\":[[0.0,\"#0d0887\"],[0.1111111111111111,\"#46039f\"],[0.2222222222222222,\"#7201a8\"],[0.3333333333333333,\"#9c179e\"],[0.4444444444444444,\"#bd3786\"],[0.5555555555555556,\"#d8576b\"],[0.6666666666666666,\"#ed7953\"],[0.7777777777777778,\"#fb9f3a\"],[0.8888888888888888,\"#fdca26\"],[1.0,\"#f0f921\"]],\"type\":\"histogram2dcontour\"}],\"mesh3d\":[{\"colorbar\":{\"outlinewidth\":0,\"ticks\":\"\"},\"type\":\"mesh3d\"}],\"parcoords\":[{\"line\":{\"colorbar\":{\"outlinewidth\":0,\"ticks\":\"\"}},\"type\":\"parcoords\"}],\"pie\":[{\"automargin\":true,\"type\":\"pie\"}],\"scatter\":[{\"marker\":{\"colorbar\":{\"outlinewidth\":0,\"ticks\":\"\"}},\"type\":\"scatter\"}],\"scatter3d\":[{\"line\":{\"colorbar\":{\"outlinewidth\":0,\"ticks\":\"\"}},\"marker\":{\"colorbar\":{\"outlinewidth\":0,\"ticks\":\"\"}},\"type\":\"scatter3d\"}],\"scattercarpet\":[{\"marker\":{\"colorbar\":{\"outlinewidth\":0,\"ticks\":\"\"}},\"type\":\"scattercarpet\"}],\"scattergeo\":[{\"marker\":{\"colorbar\":{\"outlinewidth\":0,\"ticks\":\"\"}},\"type\":\"scattergeo\"}],\"scattergl\":[{\"marker\":{\"colorbar\":{\"outlinewidth\":0,\"ticks\":\"\"}},\"type\":\"scattergl\"}],\"scattermapbox\":[{\"marker\":{\"colorbar\":{\"outlinewidth\":0,\"ticks\":\"\"}},\"type\":\"scattermapbox\"}],\"scatterpolar\":[{\"marker\":{\"colorbar\":{\"outlinewidth\":0,\"ticks\":\"\"}},\"type\":\"scatterpolar\"}],\"scatterpolargl\":[{\"marker\":{\"colorbar\":{\"outlinewidth\":0,\"ticks\":\"\"}},\"type\":\"scatterpolargl\"}],\"scatterternary\":[{\"marker\":{\"colorbar\":{\"outlinewidth\":0,\"ticks\":\"\"}},\"type\":\"scatterternary\"}],\"surface\":[{\"colorbar\":{\"outlinewidth\":0,\"ticks\":\"\"},\"colorscale\":[[0.0,\"#0d0887\"],[0.1111111111111111,\"#46039f\"],[0.2222222222222222,\"#7201a8\"],[0.3333333333333333,\"#9c179e\"],[0.4444444444444444,\"#bd3786\"],[0.5555555555555556,\"#d8576b\"],[0.6666666666666666,\"#ed7953\"],[0.7777777777777778,\"#fb9f3a\"],[0.8888888888888888,\"#fdca26\"],[1.0,\"#f0f921\"]],\"type\":\"surface\"}],\"table\":[{\"cells\":{\"fill\":{\"color\":\"#EBF0F8\"},\"line\":{\"color\":\"white\"}},\"header\":{\"fill\":{\"color\":\"#C8D4E3\"},\"line\":{\"color\":\"white\"}},\"type\":\"table\"}]},\"layout\":{\"annotationdefaults\":{\"arrowcolor\":\"#2a3f5f\",\"arrowhead\":0,\"arrowwidth\":1},\"autotypenumbers\":\"strict\",\"coloraxis\":{\"colorbar\":{\"outlinewidth\":0,\"ticks\":\"\"}},\"colorscale\":{\"diverging\":[[0,\"#8e0152\"],[0.1,\"#c51b7d\"],[0.2,\"#de77ae\"],[0.3,\"#f1b6da\"],[0.4,\"#fde0ef\"],[0.5,\"#f7f7f7\"],[0.6,\"#e6f5d0\"],[0.7,\"#b8e186\"],[0.8,\"#7fbc41\"],[0.9,\"#4d9221\"],[1,\"#276419\"]],\"sequential\":[[0.0,\"#0d0887\"],[0.1111111111111111,\"#46039f\"],[0.2222222222222222,\"#7201a8\"],[0.3333333333333333,\"#9c179e\"],[0.4444444444444444,\"#bd3786\"],[0.5555555555555556,\"#d8576b\"],[0.6666666666666666,\"#ed7953\"],[0.7777777777777778,\"#fb9f3a\"],[0.8888888888888888,\"#fdca26\"],[1.0,\"#f0f921\"]],\"sequentialminus\":[[0.0,\"#0d0887\"],[0.1111111111111111,\"#46039f\"],[0.2222222222222222,\"#7201a8\"],[0.3333333333333333,\"#9c179e\"],[0.4444444444444444,\"#bd3786\"],[0.5555555555555556,\"#d8576b\"],[0.6666666666666666,\"#ed7953\"],[0.7777777777777778,\"#fb9f3a\"],[0.8888888888888888,\"#fdca26\"],[1.0,\"#f0f921\"]]},\"colorway\":[\"#636efa\",\"#EF553B\",\"#00cc96\",\"#ab63fa\",\"#FFA15A\",\"#19d3f3\",\"#FF6692\",\"#B6E880\",\"#FF97FF\",\"#FECB52\"],\"font\":{\"color\":\"#2a3f5f\"},\"geo\":{\"bgcolor\":\"white\",\"lakecolor\":\"white\",\"landcolor\":\"#E5ECF6\",\"showlakes\":true,\"showland\":true,\"subunitcolor\":\"white\"},\"hoverlabel\":{\"align\":\"left\"},\"hovermode\":\"closest\",\"mapbox\":{\"style\":\"light\"},\"paper_bgcolor\":\"white\",\"plot_bgcolor\":\"#E5ECF6\",\"polar\":{\"angularaxis\":{\"gridcolor\":\"white\",\"linecolor\":\"white\",\"ticks\":\"\"},\"bgcolor\":\"#E5ECF6\",\"radialaxis\":{\"gridcolor\":\"white\",\"linecolor\":\"white\",\"ticks\":\"\"}},\"scene\":{\"xaxis\":{\"backgroundcolor\":\"#E5ECF6\",\"gridcolor\":\"white\",\"gridwidth\":2,\"linecolor\":\"white\",\"showbackground\":true,\"ticks\":\"\",\"zerolinecolor\":\"white\"},\"yaxis\":{\"backgroundcolor\":\"#E5ECF6\",\"gridcolor\":\"white\",\"gridwidth\":2,\"linecolor\":\"white\",\"showbackground\":true,\"ticks\":\"\",\"zerolinecolor\":\"white\"},\"zaxis\":{\"backgroundcolor\":\"#E5ECF6\",\"gridcolor\":\"white\",\"gridwidth\":2,\"linecolor\":\"white\",\"showbackground\":true,\"ticks\":\"\",\"zerolinecolor\":\"white\"}},\"shapedefaults\":{\"line\":{\"color\":\"#2a3f5f\"}},\"ternary\":{\"aaxis\":{\"gridcolor\":\"white\",\"linecolor\":\"white\",\"ticks\":\"\"},\"baxis\":{\"gridcolor\":\"white\",\"linecolor\":\"white\",\"ticks\":\"\"},\"bgcolor\":\"#E5ECF6\",\"caxis\":{\"gridcolor\":\"white\",\"linecolor\":\"white\",\"ticks\":\"\"}},\"title\":{\"x\":0.05},\"xaxis\":{\"automargin\":true,\"gridcolor\":\"white\",\"linecolor\":\"white\",\"ticks\":\"\",\"title\":{\"standoff\":15},\"zerolinecolor\":\"white\",\"zerolinewidth\":2},\"yaxis\":{\"automargin\":true,\"gridcolor\":\"white\",\"linecolor\":\"white\",\"ticks\":\"\",\"title\":{\"standoff\":15},\"zerolinecolor\":\"white\",\"zerolinewidth\":2}}},\"xaxis\":{\"anchor\":\"y\",\"domain\":[0.0,1.0],\"title\":{\"text\":\"sigla\"}},\"yaxis\":{\"anchor\":\"x\",\"domain\":[0.0,1.0],\"title\":{\"text\":\"Classifica\\u00e7\\u00e3o Nacional\"}},\"legend\":{\"tracegroupgap\":0},\"margin\":{\"t\":60},\"barmode\":\"relative\"},                        {\"responsive\": true}                    )                };                            </script>        </div>\n",
       "</body>\n",
       "</html>"
      ]
     },
     "metadata": {
      "application/vnd.databricks.v1+output": {
       "addedWidgets": {},
       "arguments": {},
       "data": "<html>\n<head><meta charset=\"utf-8\" /></head>\n<body>\n    <div>            <script src=\"https://cdnjs.cloudflare.com/ajax/libs/mathjax/2.7.5/MathJax.js?config=TeX-AMS-MML_SVG\"></script><script type=\"text/javascript\">if (window.MathJax) {MathJax.Hub.Config({SVG: {font: \"STIX-Web\"}});}</script>                <script type=\"text/javascript\">window.PlotlyConfig = {MathJaxConfig: 'local'};</script>\n        <script src=\"https://cdn.plot.ly/plotly-2.9.0.min.js\"></script>                <div id=\"af2131c0-cbbc-418c-86a3-d1ff9d3e7123\" class=\"plotly-graph-div\" style=\"height:100%; width:100%;\"></div>            <script type=\"text/javascript\">                                    window.PLOTLYENV=window.PLOTLYENV || {};                                    if (document.getElementById(\"af2131c0-cbbc-418c-86a3-d1ff9d3e7123\")) {                    Plotly.newPlot(                        \"af2131c0-cbbc-418c-86a3-d1ff9d3e7123\",                        [{\"alignmentgroup\":\"True\",\"hovertemplate\":\"sigla=%{x}<br>Classifica\\u00e7\\u00e3o Nacional=%{y}<extra></extra>\",\"legendgroup\":\"\",\"marker\":{\"color\":\"#636efa\",\"pattern\":{\"shape\":\"\"}},\"name\":\"\",\"offsetgroup\":\"\",\"orientation\":\"v\",\"showlegend\":false,\"textposition\":\"auto\",\"x\":[\"UFSCAR\",\"UFF\",\"UFPR\",\"UNB\",\"UFSC\",\"UNESP\",\"UFMG\",\"UFRJ\",\"UNICAMP\",\"USP\"],\"xaxis\":\"x\",\"y\":[10,9,8,7,6,5,4,3,2,1],\"yaxis\":\"y\",\"type\":\"bar\"}],                        {\"template\":{\"data\":{\"bar\":[{\"error_x\":{\"color\":\"#2a3f5f\"},\"error_y\":{\"color\":\"#2a3f5f\"},\"marker\":{\"line\":{\"color\":\"#E5ECF6\",\"width\":0.5},\"pattern\":{\"fillmode\":\"overlay\",\"size\":10,\"solidity\":0.2}},\"type\":\"bar\"}],\"barpolar\":[{\"marker\":{\"line\":{\"color\":\"#E5ECF6\",\"width\":0.5},\"pattern\":{\"fillmode\":\"overlay\",\"size\":10,\"solidity\":0.2}},\"type\":\"barpolar\"}],\"carpet\":[{\"aaxis\":{\"endlinecolor\":\"#2a3f5f\",\"gridcolor\":\"white\",\"linecolor\":\"white\",\"minorgridcolor\":\"white\",\"startlinecolor\":\"#2a3f5f\"},\"baxis\":{\"endlinecolor\":\"#2a3f5f\",\"gridcolor\":\"white\",\"linecolor\":\"white\",\"minorgridcolor\":\"white\",\"startlinecolor\":\"#2a3f5f\"},\"type\":\"carpet\"}],\"choropleth\":[{\"colorbar\":{\"outlinewidth\":0,\"ticks\":\"\"},\"type\":\"choropleth\"}],\"contour\":[{\"colorbar\":{\"outlinewidth\":0,\"ticks\":\"\"},\"colorscale\":[[0.0,\"#0d0887\"],[0.1111111111111111,\"#46039f\"],[0.2222222222222222,\"#7201a8\"],[0.3333333333333333,\"#9c179e\"],[0.4444444444444444,\"#bd3786\"],[0.5555555555555556,\"#d8576b\"],[0.6666666666666666,\"#ed7953\"],[0.7777777777777778,\"#fb9f3a\"],[0.8888888888888888,\"#fdca26\"],[1.0,\"#f0f921\"]],\"type\":\"contour\"}],\"contourcarpet\":[{\"colorbar\":{\"outlinewidth\":0,\"ticks\":\"\"},\"type\":\"contourcarpet\"}],\"heatmap\":[{\"colorbar\":{\"outlinewidth\":0,\"ticks\":\"\"},\"colorscale\":[[0.0,\"#0d0887\"],[0.1111111111111111,\"#46039f\"],[0.2222222222222222,\"#7201a8\"],[0.3333333333333333,\"#9c179e\"],[0.4444444444444444,\"#bd3786\"],[0.5555555555555556,\"#d8576b\"],[0.6666666666666666,\"#ed7953\"],[0.7777777777777778,\"#fb9f3a\"],[0.8888888888888888,\"#fdca26\"],[1.0,\"#f0f921\"]],\"type\":\"heatmap\"}],\"heatmapgl\":[{\"colorbar\":{\"outlinewidth\":0,\"ticks\":\"\"},\"colorscale\":[[0.0,\"#0d0887\"],[0.1111111111111111,\"#46039f\"],[0.2222222222222222,\"#7201a8\"],[0.3333333333333333,\"#9c179e\"],[0.4444444444444444,\"#bd3786\"],[0.5555555555555556,\"#d8576b\"],[0.6666666666666666,\"#ed7953\"],[0.7777777777777778,\"#fb9f3a\"],[0.8888888888888888,\"#fdca26\"],[1.0,\"#f0f921\"]],\"type\":\"heatmapgl\"}],\"histogram\":[{\"marker\":{\"pattern\":{\"fillmode\":\"overlay\",\"size\":10,\"solidity\":0.2}},\"type\":\"histogram\"}],\"histogram2d\":[{\"colorbar\":{\"outlinewidth\":0,\"ticks\":\"\"},\"colorscale\":[[0.0,\"#0d0887\"],[0.1111111111111111,\"#46039f\"],[0.2222222222222222,\"#7201a8\"],[0.3333333333333333,\"#9c179e\"],[0.4444444444444444,\"#bd3786\"],[0.5555555555555556,\"#d8576b\"],[0.6666666666666666,\"#ed7953\"],[0.7777777777777778,\"#fb9f3a\"],[0.8888888888888888,\"#fdca26\"],[1.0,\"#f0f921\"]],\"type\":\"histogram2d\"}],\"histogram2dcontour\":[{\"colorbar\":{\"outlinewidth\":0,\"ticks\":\"\"},\"colorscale\":[[0.0,\"#0d0887\"],[0.1111111111111111,\"#46039f\"],[0.2222222222222222,\"#7201a8\"],[0.3333333333333333,\"#9c179e\"],[0.4444444444444444,\"#bd3786\"],[0.5555555555555556,\"#d8576b\"],[0.6666666666666666,\"#ed7953\"],[0.7777777777777778,\"#fb9f3a\"],[0.8888888888888888,\"#fdca26\"],[1.0,\"#f0f921\"]],\"type\":\"histogram2dcontour\"}],\"mesh3d\":[{\"colorbar\":{\"outlinewidth\":0,\"ticks\":\"\"},\"type\":\"mesh3d\"}],\"parcoords\":[{\"line\":{\"colorbar\":{\"outlinewidth\":0,\"ticks\":\"\"}},\"type\":\"parcoords\"}],\"pie\":[{\"automargin\":true,\"type\":\"pie\"}],\"scatter\":[{\"marker\":{\"colorbar\":{\"outlinewidth\":0,\"ticks\":\"\"}},\"type\":\"scatter\"}],\"scatter3d\":[{\"line\":{\"colorbar\":{\"outlinewidth\":0,\"ticks\":\"\"}},\"marker\":{\"colorbar\":{\"outlinewidth\":0,\"ticks\":\"\"}},\"type\":\"scatter3d\"}],\"scattercarpet\":[{\"marker\":{\"colorbar\":{\"outlinewidth\":0,\"ticks\":\"\"}},\"type\":\"scattercarpet\"}],\"scattergeo\":[{\"marker\":{\"colorbar\":{\"outlinewidth\":0,\"ticks\":\"\"}},\"type\":\"scattergeo\"}],\"scattergl\":[{\"marker\":{\"colorbar\":{\"outlinewidth\":0,\"ticks\":\"\"}},\"type\":\"scattergl\"}],\"scattermapbox\":[{\"marker\":{\"colorbar\":{\"outlinewidth\":0,\"ticks\":\"\"}},\"type\":\"scattermapbox\"}],\"scatterpolar\":[{\"marker\":{\"colorbar\":{\"outlinewidth\":0,\"ticks\":\"\"}},\"type\":\"scatterpolar\"}],\"scatterpolargl\":[{\"marker\":{\"colorbar\":{\"outlinewidth\":0,\"ticks\":\"\"}},\"type\":\"scatterpolargl\"}],\"scatterternary\":[{\"marker\":{\"colorbar\":{\"outlinewidth\":0,\"ticks\":\"\"}},\"type\":\"scatterternary\"}],\"surface\":[{\"colorbar\":{\"outlinewidth\":0,\"ticks\":\"\"},\"colorscale\":[[0.0,\"#0d0887\"],[0.1111111111111111,\"#46039f\"],[0.2222222222222222,\"#7201a8\"],[0.3333333333333333,\"#9c179e\"],[0.4444444444444444,\"#bd3786\"],[0.5555555555555556,\"#d8576b\"],[0.6666666666666666,\"#ed7953\"],[0.7777777777777778,\"#fb9f3a\"],[0.8888888888888888,\"#fdca26\"],[1.0,\"#f0f921\"]],\"type\":\"surface\"}],\"table\":[{\"cells\":{\"fill\":{\"color\":\"#EBF0F8\"},\"line\":{\"color\":\"white\"}},\"header\":{\"fill\":{\"color\":\"#C8D4E3\"},\"line\":{\"color\":\"white\"}},\"type\":\"table\"}]},\"layout\":{\"annotationdefaults\":{\"arrowcolor\":\"#2a3f5f\",\"arrowhead\":0,\"arrowwidth\":1},\"autotypenumbers\":\"strict\",\"coloraxis\":{\"colorbar\":{\"outlinewidth\":0,\"ticks\":\"\"}},\"colorscale\":{\"diverging\":[[0,\"#8e0152\"],[0.1,\"#c51b7d\"],[0.2,\"#de77ae\"],[0.3,\"#f1b6da\"],[0.4,\"#fde0ef\"],[0.5,\"#f7f7f7\"],[0.6,\"#e6f5d0\"],[0.7,\"#b8e186\"],[0.8,\"#7fbc41\"],[0.9,\"#4d9221\"],[1,\"#276419\"]],\"sequential\":[[0.0,\"#0d0887\"],[0.1111111111111111,\"#46039f\"],[0.2222222222222222,\"#7201a8\"],[0.3333333333333333,\"#9c179e\"],[0.4444444444444444,\"#bd3786\"],[0.5555555555555556,\"#d8576b\"],[0.6666666666666666,\"#ed7953\"],[0.7777777777777778,\"#fb9f3a\"],[0.8888888888888888,\"#fdca26\"],[1.0,\"#f0f921\"]],\"sequentialminus\":[[0.0,\"#0d0887\"],[0.1111111111111111,\"#46039f\"],[0.2222222222222222,\"#7201a8\"],[0.3333333333333333,\"#9c179e\"],[0.4444444444444444,\"#bd3786\"],[0.5555555555555556,\"#d8576b\"],[0.6666666666666666,\"#ed7953\"],[0.7777777777777778,\"#fb9f3a\"],[0.8888888888888888,\"#fdca26\"],[1.0,\"#f0f921\"]]},\"colorway\":[\"#636efa\",\"#EF553B\",\"#00cc96\",\"#ab63fa\",\"#FFA15A\",\"#19d3f3\",\"#FF6692\",\"#B6E880\",\"#FF97FF\",\"#FECB52\"],\"font\":{\"color\":\"#2a3f5f\"},\"geo\":{\"bgcolor\":\"white\",\"lakecolor\":\"white\",\"landcolor\":\"#E5ECF6\",\"showlakes\":true,\"showland\":true,\"subunitcolor\":\"white\"},\"hoverlabel\":{\"align\":\"left\"},\"hovermode\":\"closest\",\"mapbox\":{\"style\":\"light\"},\"paper_bgcolor\":\"white\",\"plot_bgcolor\":\"#E5ECF6\",\"polar\":{\"angularaxis\":{\"gridcolor\":\"white\",\"linecolor\":\"white\",\"ticks\":\"\"},\"bgcolor\":\"#E5ECF6\",\"radialaxis\":{\"gridcolor\":\"white\",\"linecolor\":\"white\",\"ticks\":\"\"}},\"scene\":{\"xaxis\":{\"backgroundcolor\":\"#E5ECF6\",\"gridcolor\":\"white\",\"gridwidth\":2,\"linecolor\":\"white\",\"showbackground\":true,\"ticks\":\"\",\"zerolinecolor\":\"white\"},\"yaxis\":{\"backgroundcolor\":\"#E5ECF6\",\"gridcolor\":\"white\",\"gridwidth\":2,\"linecolor\":\"white\",\"showbackground\":true,\"ticks\":\"\",\"zerolinecolor\":\"white\"},\"zaxis\":{\"backgroundcolor\":\"#E5ECF6\",\"gridcolor\":\"white\",\"gridwidth\":2,\"linecolor\":\"white\",\"showbackground\":true,\"ticks\":\"\",\"zerolinecolor\":\"white\"}},\"shapedefaults\":{\"line\":{\"color\":\"#2a3f5f\"}},\"ternary\":{\"aaxis\":{\"gridcolor\":\"white\",\"linecolor\":\"white\",\"ticks\":\"\"},\"baxis\":{\"gridcolor\":\"white\",\"linecolor\":\"white\",\"ticks\":\"\"},\"bgcolor\":\"#E5ECF6\",\"caxis\":{\"gridcolor\":\"white\",\"linecolor\":\"white\",\"ticks\":\"\"}},\"title\":{\"x\":0.05},\"xaxis\":{\"automargin\":true,\"gridcolor\":\"white\",\"linecolor\":\"white\",\"ticks\":\"\",\"title\":{\"standoff\":15},\"zerolinecolor\":\"white\",\"zerolinewidth\":2},\"yaxis\":{\"automargin\":true,\"gridcolor\":\"white\",\"linecolor\":\"white\",\"ticks\":\"\",\"title\":{\"standoff\":15},\"zerolinecolor\":\"white\",\"zerolinewidth\":2}}},\"xaxis\":{\"anchor\":\"y\",\"domain\":[0.0,1.0],\"title\":{\"text\":\"sigla\"}},\"yaxis\":{\"anchor\":\"x\",\"domain\":[0.0,1.0],\"title\":{\"text\":\"Classifica\\u00e7\\u00e3o Nacional\"}},\"legend\":{\"tracegroupgap\":0},\"margin\":{\"t\":60},\"barmode\":\"relative\"},                        {\"responsive\": true}                    )                };                            </script>        </div>\n</body>\n</html>",
       "datasetInfos": [],
       "metadata": {},
       "removedWidgets": [],
       "textData": null,
       "type": "htmlSandbox"
      }
     },
     "output_type": "display_data"
    }
   ],
   "source": [
    "fig = df_publicas.plot.bar(x='sigla',y='Classificação Nacional')\n",
    "fig.show()"
   ]
  },
  {
   "cell_type": "markdown",
   "metadata": {
    "application/vnd.databricks.v1+cell": {
     "cellMetadata": {},
     "inputWidgets": {},
     "nuid": "84863270-949a-44cc-b9b4-2c2192a24dea",
     "showTitle": false,
     "title": ""
    }
   },
   "source": [
    " podemos tentar passar os dados de um dataframe da Pandas no Spark (ou mesmo da Pandas) para um dataframe da Spark"
   ]
  },
  {
   "cell_type": "code",
   "execution_count": 0,
   "metadata": {
    "application/vnd.databricks.v1+cell": {
     "cellMetadata": {
      "byteLimit": 2048000,
      "rowLimit": 10000
     },
     "inputWidgets": {},
     "nuid": "88b9c731-388c-43c4-b9c6-b03b9f2f623f",
     "showTitle": false,
     "title": ""
    }
   },
   "outputs": [],
   "source": [
    "dfs_bolsas = df_pandas.to_spark() "
   ]
  },
  {
   "cell_type": "code",
   "execution_count": 0,
   "metadata": {
    "application/vnd.databricks.v1+cell": {
     "cellMetadata": {
      "byteLimit": 2048000,
      "rowLimit": 10000
     },
     "inputWidgets": {},
     "nuid": "588aae53-6e2e-453f-88d9-a782ab253cf2",
     "showTitle": false,
     "title": ""
    }
   },
   "outputs": [
    {
     "output_type": "stream",
     "name": "stdout",
     "output_type": "stream",
     "text": [
      "+----+----------------+---------------+------------+\n| Ano|Bolsas_Integrais|Bolsas_Parciais|Bolsas_Total|\n+----+----------------+---------------+------------+\n|2021|           146.3|          150.0|       296.3|\n|2020|           182.9|          237.4|       420.3|\n+----+----------------+---------------+------------+\n\n"
     ]
    }
   ],
   "source": [
    "dfs_bolsas.show()"
   ]
  },
  {
   "cell_type": "code",
   "execution_count": 0,
   "metadata": {
    "application/vnd.databricks.v1+cell": {
     "cellMetadata": {
      "byteLimit": 2048000,
      "rowLimit": 10000
     },
     "inputWidgets": {},
     "nuid": "5678560b-58a4-4120-8312-e75477b0cd2e",
     "showTitle": false,
     "title": ""
    }
   },
   "outputs": [
    {
     "output_type": "stream",
     "name": "stdout",
     "output_type": "stream",
     "text": [
      "Out[36]: pyspark.sql.dataframe.DataFrame"
     ]
    }
   ],
   "source": [
    "type(dfs_bolsas)"
   ]
  },
  {
   "cell_type": "code",
   "execution_count": 0,
   "metadata": {
    "application/vnd.databricks.v1+cell": {
     "cellMetadata": {
      "byteLimit": 2048000,
      "rowLimit": 10000
     },
     "inputWidgets": {},
     "nuid": "fdb1e3d2-dcd8-49db-9b81-9c8c63f5b7a8",
     "showTitle": false,
     "title": ""
    }
   },
   "outputs": [],
   "source": [
    "local_do_arquivo = '/FileStore/cursos_prouni.csv'"
   ]
  },
  {
   "cell_type": "code",
   "execution_count": 0,
   "metadata": {
    "application/vnd.databricks.v1+cell": {
     "cellMetadata": {
      "byteLimit": 2048000,
      "rowLimit": 10000
     },
     "inputWidgets": {},
     "nuid": "c0f38ce0-9868-41a8-ab75-f317abd39d14",
     "showTitle": false,
     "title": ""
    }
   },
   "outputs": [],
   "source": [
    "df_publicas.to_parquet('/FileStore/tables/publicas.parquet',partition_cols='Classificação Nacional')"
   ]
  },
  {
   "cell_type": "markdown",
   "metadata": {
    "application/vnd.databricks.v1+cell": {
     "cellMetadata": {},
     "inputWidgets": {},
     "nuid": "a812827a-c447-43c4-adf6-34a589525a23",
     "showTitle": false,
     "title": ""
    }
   },
   "source": [
    "Observação: não estamos trabalhando efetivamente com uma situação de bigdata, mas sim simulando. Em uma situação de bigdata, podemos particionar as informações, de modo que o arquivo seja salvo em várias partes. Assim, temos maior facilidade na manipulação das informações."
   ]
  },
  {
   "cell_type": "code",
   "execution_count": 0,
   "metadata": {
    "application/vnd.databricks.v1+cell": {
     "cellMetadata": {
      "byteLimit": 2048000,
      "rowLimit": 10000
     },
     "inputWidgets": {},
     "nuid": "b2d0d2ab-1e03-4f46-beb0-49dfbc4b488d",
     "showTitle": false,
     "title": ""
    }
   },
   "outputs": [
    {
     "output_type": "display_data",
     "data": {
      "text/html": [
       "<div>\n",
       "<style scoped>\n",
       "    .dataframe tbody tr th:only-of-type {\n",
       "        vertical-align: middle;\n",
       "    }\n",
       "\n",
       "    .dataframe tbody tr th {\n",
       "        vertical-align: top;\n",
       "    }\n",
       "\n",
       "    .dataframe thead th {\n",
       "        text-align: right;\n",
       "    }\n",
       "</style>\n",
       "<table border=\"1\" class=\"dataframe\">\n",
       "  <thead>\n",
       "    <tr style=\"text-align: right;\">\n",
       "      <th></th>\n",
       "      <th>Classificação Mundial</th>\n",
       "      <th>Universidade</th>\n",
       "      <th>Logo</th>\n",
       "      <th>sigla</th>\n",
       "      <th>tipo</th>\n",
       "      <th>web</th>\n",
       "      <th>Localização</th>\n",
       "      <th>Classificação Nacional</th>\n",
       "    </tr>\n",
       "  </thead>\n",
       "  <tbody>\n",
       "    <tr>\n",
       "      <th>0</th>\n",
       "      <td>236</td>\n",
       "      <td>Universidade Estadual de Campinas</td>\n",
       "      <td>NaN</td>\n",
       "      <td>UNICAMP</td>\n",
       "      <td>Pública Estadual</td>\n",
       "      <td>www.unicamp.br/</td>\n",
       "      <td>São Paulo</td>\n",
       "      <td>2</td>\n",
       "    </tr>\n",
       "    <tr>\n",
       "      <th>1</th>\n",
       "      <td>667</td>\n",
       "      <td>Universidade Federal de São Carlos</td>\n",
       "      <td>NaN</td>\n",
       "      <td>UFSCAR</td>\n",
       "      <td>Pública federal</td>\n",
       "      <td>www.ufscar.br/</td>\n",
       "      <td>São Paulo</td>\n",
       "      <td>10</td>\n",
       "    </tr>\n",
       "    <tr>\n",
       "      <th>2</th>\n",
       "      <td>427</td>\n",
       "      <td>Universidade Federal de Santa Catarina</td>\n",
       "      <td>NaN</td>\n",
       "      <td>UFSC</td>\n",
       "      <td>Pública federal</td>\n",
       "      <td>ufsc.br/</td>\n",
       "      <td>Santa Catarina</td>\n",
       "      <td>6</td>\n",
       "    </tr>\n",
       "    <tr>\n",
       "      <th>3</th>\n",
       "      <td>278</td>\n",
       "      <td>Universidade Federal do Rio de Janeiro</td>\n",
       "      <td>NaN</td>\n",
       "      <td>UFRJ</td>\n",
       "      <td>Pública federal</td>\n",
       "      <td>ufrj.br/</td>\n",
       "      <td>Rio de Janeiro</td>\n",
       "      <td>3</td>\n",
       "    </tr>\n",
       "    <tr>\n",
       "      <th>4</th>\n",
       "      <td>298</td>\n",
       "      <td>Universidade Federal de Minas Gerais</td>\n",
       "      <td>NaN</td>\n",
       "      <td>UFMG</td>\n",
       "      <td>Pública federal</td>\n",
       "      <td>ucb.edu.bo</td>\n",
       "      <td>Minas Gerais</td>\n",
       "      <td>4</td>\n",
       "    </tr>\n",
       "    <tr>\n",
       "      <th>5</th>\n",
       "      <td>596</td>\n",
       "      <td>Universidade Federal Fluminense</td>\n",
       "      <td>NaN</td>\n",
       "      <td>UFF</td>\n",
       "      <td>Pública federal</td>\n",
       "      <td>www.uff.br/</td>\n",
       "      <td>Rio de Janeiro</td>\n",
       "      <td>9</td>\n",
       "    </tr>\n",
       "    <tr>\n",
       "      <th>6</th>\n",
       "      <td>345</td>\n",
       "      <td>Universidade Estadual Paulista</td>\n",
       "      <td>NaN</td>\n",
       "      <td>UNESP</td>\n",
       "      <td>Pública Estadual</td>\n",
       "      <td>www.unesp.br</td>\n",
       "      <td>São Paulo</td>\n",
       "      <td>5</td>\n",
       "    </tr>\n",
       "    <tr>\n",
       "      <th>7</th>\n",
       "      <td>592</td>\n",
       "      <td>Universidade de Brasília</td>\n",
       "      <td>NaN</td>\n",
       "      <td>UNB</td>\n",
       "      <td>Pública Estadual</td>\n",
       "      <td>www.unb.br/</td>\n",
       "      <td>Distrito Federal</td>\n",
       "      <td>7</td>\n",
       "    </tr>\n",
       "    <tr>\n",
       "      <th>8</th>\n",
       "      <td>593</td>\n",
       "      <td>Universidade Federal do Paraná</td>\n",
       "      <td>NaN</td>\n",
       "      <td>UFPR</td>\n",
       "      <td>Pública federal</td>\n",
       "      <td>www.ufpr.br/</td>\n",
       "      <td>Paraná</td>\n",
       "      <td>8</td>\n",
       "    </tr>\n",
       "    <tr>\n",
       "      <th>9</th>\n",
       "      <td>72</td>\n",
       "      <td>Universidade de São Paulo</td>\n",
       "      <td>NaN</td>\n",
       "      <td>USP</td>\n",
       "      <td>Pública Estadual</td>\n",
       "      <td>www5.usp.br/</td>\n",
       "      <td>São Paulo</td>\n",
       "      <td>1</td>\n",
       "    </tr>\n",
       "  </tbody>\n",
       "</table>\n",
       "</div>"
      ]
     },
     "metadata": {
      "application/vnd.databricks.v1+output": {
       "addedWidgets": {},
       "arguments": {},
       "data": "<div>\n<style scoped>\n    .dataframe tbody tr th:only-of-type {\n        vertical-align: middle;\n    }\n\n    .dataframe tbody tr th {\n        vertical-align: top;\n    }\n\n    .dataframe thead th {\n        text-align: right;\n    }\n</style>\n<table border=\"1\" class=\"dataframe\">\n  <thead>\n    <tr style=\"text-align: right;\">\n      <th></th>\n      <th>Classificação Mundial</th>\n      <th>Universidade</th>\n      <th>Logo</th>\n      <th>sigla</th>\n      <th>tipo</th>\n      <th>web</th>\n      <th>Localização</th>\n      <th>Classificação Nacional</th>\n    </tr>\n  </thead>\n  <tbody>\n    <tr>\n      <th>0</th>\n      <td>236</td>\n      <td>Universidade Estadual de Campinas</td>\n      <td>NaN</td>\n      <td>UNICAMP</td>\n      <td>Pública Estadual</td>\n      <td>www.unicamp.br/</td>\n      <td>São Paulo</td>\n      <td>2</td>\n    </tr>\n    <tr>\n      <th>1</th>\n      <td>667</td>\n      <td>Universidade Federal de São Carlos</td>\n      <td>NaN</td>\n      <td>UFSCAR</td>\n      <td>Pública federal</td>\n      <td>www.ufscar.br/</td>\n      <td>São Paulo</td>\n      <td>10</td>\n    </tr>\n    <tr>\n      <th>2</th>\n      <td>427</td>\n      <td>Universidade Federal de Santa Catarina</td>\n      <td>NaN</td>\n      <td>UFSC</td>\n      <td>Pública federal</td>\n      <td>ufsc.br/</td>\n      <td>Santa Catarina</td>\n      <td>6</td>\n    </tr>\n    <tr>\n      <th>3</th>\n      <td>278</td>\n      <td>Universidade Federal do Rio de Janeiro</td>\n      <td>NaN</td>\n      <td>UFRJ</td>\n      <td>Pública federal</td>\n      <td>ufrj.br/</td>\n      <td>Rio de Janeiro</td>\n      <td>3</td>\n    </tr>\n    <tr>\n      <th>4</th>\n      <td>298</td>\n      <td>Universidade Federal de Minas Gerais</td>\n      <td>NaN</td>\n      <td>UFMG</td>\n      <td>Pública federal</td>\n      <td>ucb.edu.bo</td>\n      <td>Minas Gerais</td>\n      <td>4</td>\n    </tr>\n    <tr>\n      <th>5</th>\n      <td>596</td>\n      <td>Universidade Federal Fluminense</td>\n      <td>NaN</td>\n      <td>UFF</td>\n      <td>Pública federal</td>\n      <td>www.uff.br/</td>\n      <td>Rio de Janeiro</td>\n      <td>9</td>\n    </tr>\n    <tr>\n      <th>6</th>\n      <td>345</td>\n      <td>Universidade Estadual Paulista</td>\n      <td>NaN</td>\n      <td>UNESP</td>\n      <td>Pública Estadual</td>\n      <td>www.unesp.br</td>\n      <td>São Paulo</td>\n      <td>5</td>\n    </tr>\n    <tr>\n      <th>7</th>\n      <td>592</td>\n      <td>Universidade de Brasília</td>\n      <td>NaN</td>\n      <td>UNB</td>\n      <td>Pública Estadual</td>\n      <td>www.unb.br/</td>\n      <td>Distrito Federal</td>\n      <td>7</td>\n    </tr>\n    <tr>\n      <th>8</th>\n      <td>593</td>\n      <td>Universidade Federal do Paraná</td>\n      <td>NaN</td>\n      <td>UFPR</td>\n      <td>Pública federal</td>\n      <td>www.ufpr.br/</td>\n      <td>Paraná</td>\n      <td>8</td>\n    </tr>\n    <tr>\n      <th>9</th>\n      <td>72</td>\n      <td>Universidade de São Paulo</td>\n      <td>NaN</td>\n      <td>USP</td>\n      <td>Pública Estadual</td>\n      <td>www5.usp.br/</td>\n      <td>São Paulo</td>\n      <td>1</td>\n    </tr>\n  </tbody>\n</table>\n</div>",
       "datasetInfos": [],
       "metadata": {},
       "removedWidgets": [],
       "textData": null,
       "type": "htmlSandbox"
      }
     },
     "output_type": "display_data"
    }
   ],
   "source": [
    "ps.read_parquet('/FileStore/tables/publicas.parquet')"
   ]
  }
 ],
 "metadata": {
  "application/vnd.databricks.v1+notebook": {
   "dashboards": [],
   "environmentMetadata": null,
   "language": "python",
   "notebookMetadata": {
    "pythonIndentUnit": 4
   },
   "notebookName": "Curso3_HTML",
   "widgets": {}
  }
 },
 "nbformat": 4,
 "nbformat_minor": 0
}
